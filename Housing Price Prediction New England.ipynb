{
 "cells": [
  {
   "cell_type": "code",
   "execution_count": 1,
   "metadata": {},
   "outputs": [],
   "source": [
    "#Bootstrap \n",
    "import sys \n",
    "import os\n",
    "import sklearn\n",
    "assert sklearn.__version__ >= '0.20'\n",
    "import numpy as np\n",
    "import pandas as pd"
   ]
  },
  {
   "cell_type": "code",
   "execution_count": 2,
   "metadata": {},
   "outputs": [],
   "source": [
    "# output.to_csv('sub{}.csv'.format(datetime.now().strftime('%Y%m%d_%H%M%S')), index=False)"
   ]
  },
  {
   "cell_type": "markdown",
   "metadata": {},
   "source": [
    "# Read in Data"
   ]
  },
  {
   "cell_type": "code",
   "execution_count": 3,
   "metadata": {},
   "outputs": [],
   "source": [
    "def read_data_from_path_file_folder_to_csv(path=None,file_names=None):\n",
    "    #works\n",
    "    #determines if the path is a file\n",
    "    if (os.path.isfile(path)):\n",
    "        data = pd.read_csv(path, header=0)\n",
    "        print(\"Single File: \"+ path)\n",
    "    #if a single path   \n",
    "    elif (bool(os.path.isfile(path)) == False):\n",
    "        print(\"Multiple Files: \" + path)\n",
    "        li = [] # for the files \n",
    "        for file in file_names:\n",
    "            file = join(path, file)\n",
    "            df = pd.read_csv(file, index_col=None, header=0)\n",
    "            li.append(df)\n",
    "        data = pd.concat(li, axis=0)\n",
    "    return data\n"
   ]
  },
  {
   "cell_type": "code",
   "execution_count": 4,
   "metadata": {},
   "outputs": [],
   "source": [
    "from sklearn.model_selection import cross_val_score\n",
    "\n",
    "def display_scores(model, x, y):\n",
    "    scores = cross_val_score(model, x, y, scoring='neg_mean_squared_error')\n",
    "    print(\"Scores: \", scores)\n",
    "    print(\"Mean: \", scores.mean())\n",
    "    print(\"Standard_deviation: \", scores.std())\n"
   ]
  },
  {
   "cell_type": "code",
   "execution_count": 5,
   "metadata": {},
   "outputs": [],
   "source": [
    "from os import listdir\n",
    "from os.path import isfile, join\n",
    "\n",
    "def read_list_of_paths_to_csv(listed_paths=None):\n",
    "    \n",
    "    li = [] #list for the aggergated files\n",
    "\n",
    "    #go through the paths\n",
    "    for path in listed_paths:\n",
    "        #read all file names following the paths\n",
    "        for file in listdir(path):\n",
    "            try: #for non-csv files\n",
    "                file = join(path, file)\n",
    "                df = pd.read_csv(file, index_col=None, header=0)\n",
    "                li.append(df)\n",
    "            except:\n",
    "                continue\n",
    "    data = pd.concat(li, axis=0)\n",
    "\n",
    "\n",
    "    return data\n",
    "        \n",
    "# combine_files = [f for f in listdir(path) if isfile(join(path, f))]\n",
    "multi_path = ['new_england_datasets/', 'new_england_datasets/ct_towns/',\n",
    "             'new_england_datasets/ri_towns/', 'new_england_datasets/ma_towns/']\n",
    "data = read_list_of_paths_to_csv(multi_path)"
   ]
  },
  {
   "cell_type": "code",
   "execution_count": 6,
   "metadata": {},
   "outputs": [],
   "source": [
    "def read_directory(path=None):\n",
    "#     path = 'new_england_datasets/' \n",
    "    files = combine_files = [f for f in listdir(path) if isfile(join(path, f))]\n",
    "    return files"
   ]
  },
  {
   "cell_type": "code",
   "execution_count": 7,
   "metadata": {},
   "outputs": [],
   "source": [
    "def compare_scores(model, x, y):\n",
    "    print('Predictions: ', model.predict(x))\n",
    "    print('actual:', list(y))\n",
    "    #maybe print a difference?\n"
   ]
  },
  {
   "cell_type": "code",
   "execution_count": 8,
   "metadata": {},
   "outputs": [
    {
     "data": {
      "text/plain": [
       "SALE TYPE            24191\n",
       "PROPERTY TYPE        24191\n",
       "CITY                 24186\n",
       "STATE OR PROVINCE    24190\n",
       "PRICE                24191\n",
       "BEDS                 20500\n",
       "BATHS                20335\n",
       "SQUARE FEET          20504\n",
       "LOT SIZE             20203\n",
       "YEAR BUILT           20380\n",
       "DAYS ON MARKET       24116\n",
       "LATITUDE             24191\n",
       "LONGITUDE            24191\n",
       "dtype: int64"
      ]
     },
     "execution_count": 8,
     "metadata": {},
     "output_type": "execute_result"
    }
   ],
   "source": [
    "path = ['new_england_datasets/', 'new_england_datasets/ct_towns/', \n",
    "        'new_england_datasets/ri_towns/']\n",
    "# combine_files = [f for f in listdir(path) if isfile(join(path, f))]S\n",
    "\n",
    "initial_data = read_list_of_paths_to_csv(path)\n",
    "\n",
    "\n",
    "#if I could parse the addresses, I could set the different types of roads as a param\n",
    "data  = initial_data.drop( [\"STATUS\", \"SOLD DATE\", \"ADDRESS\", \"ZIP OR POSTAL CODE\",\n",
    "            \"URL (SEE http://www.redfin.com/buy-a-home/comparative-market-analysis FOR INFO ON PRICING)\",\n",
    "             \"SOURCE\", \"FAVORITE\",\"NEXT OPEN HOUSE START TIME\", \"NEXT OPEN HOUSE END TIME\", \n",
    "          \"INTERESTED\", \"LOCATION\", \"HOA/MONTH\", \"$/SQUARE FEET\",\n",
    "                ], axis=1)\n",
    "\n",
    "#drop the duplicates\n",
    "data = data.drop_duplicates(subset=['MLS#'])\n",
    "#use the MLS# as the index \n",
    "data = data.set_index(data['MLS#'])\n",
    "data = data.drop(columns=['MLS#'])\n",
    "data.count()"
   ]
  },
  {
   "cell_type": "code",
   "execution_count": 9,
   "metadata": {},
   "outputs": [
    {
     "data": {
      "text/plain": [
       "array(['Ferrisburgh', 'Bridport', 'New Haven', ..., 'Centredale',\n",
       "       'Fatima Area/Fruit Hill', 'lymansville/ fruit hill'], dtype=object)"
      ]
     },
     "execution_count": 9,
     "metadata": {},
     "output_type": "execute_result"
    }
   ],
   "source": [
    "initial_data['LOCATION'].unique()"
   ]
  },
  {
   "cell_type": "code",
   "execution_count": 10,
   "metadata": {},
   "outputs": [
    {
     "data": {
      "image/png": "[encoded data removed]",
      "text/plain": [
       "<Figure size 1080x1080 with 9 Axes>"
      ]
     },
     "metadata": {
      "needs_background": "light"
     },
     "output_type": "display_data"
    }
   ],
   "source": [
    "%matplotlib inline\n",
    "import matplotlib.pyplot as plt\n",
    "data.hist(bins=50, figsize=(15,15))\n",
    "plt.show()"
   ]
  },
  {
   "cell_type": "markdown",
   "metadata": {},
   "source": [
    "I wonder if there is any correlation between days on market and home price? More expensive homes take longer to sell typically since there is a smaller group of people that can afford them."
   ]
  },
  {
   "cell_type": "code",
   "execution_count": 11,
   "metadata": {},
   "outputs": [],
   "source": [
    "#get the z score on only numerical attributes"
   ]
  },
  {
   "cell_type": "markdown",
   "metadata": {},
   "source": [
    "- Maybe drop the outliers?\n",
    "- 1/2 bath only?, 27sqft, no bedroom(studio?), 2.00ft lot size,"
   ]
  },
  {
   "cell_type": "code",
   "execution_count": 12,
   "metadata": {},
   "outputs": [
    {
     "data": {
      "text/plain": [
       "SALE TYPE            24191\n",
       "PROPERTY TYPE        24191\n",
       "CITY                 24186\n",
       "STATE OR PROVINCE    24190\n",
       "PRICE                24191\n",
       "BEDS                 20500\n",
       "BATHS                20335\n",
       "SQUARE FEET          20504\n",
       "LOT SIZE             20203\n",
       "YEAR BUILT           20380\n",
       "DAYS ON MARKET       24116\n",
       "LATITUDE             24191\n",
       "LONGITUDE            24191\n",
       "dtype: int64"
      ]
     },
     "execution_count": 12,
     "metadata": {},
     "output_type": "execute_result"
    }
   ],
   "source": [
    "data.count()"
   ]
  },
  {
   "cell_type": "code",
   "execution_count": 13,
   "metadata": {},
   "outputs": [
    {
     "data": {
      "text/plain": [
       "<matplotlib.axes._subplots.AxesSubplot at 0x7f41d394f780>"
      ]
     },
     "execution_count": 13,
     "metadata": {},
     "output_type": "execute_result"
    },
    {
     "data": {
      "image/png": "[encoded data removed]",
      "text/plain": [
       "<Figure size 432x288 with 1 Axes>"
      ]
     },
     "metadata": {
      "needs_background": "light"
     },
     "output_type": "display_data"
    }
   ],
   "source": [
    "data.plot(kind='scatter', x='LONGITUDE', y='LATITUDE')"
   ]
  },
  {
   "cell_type": "markdown",
   "metadata": {},
   "source": [
    "# Cleaning"
   ]
  },
  {
   "cell_type": "code",
   "execution_count": 14,
   "metadata": {},
   "outputs": [
    {
     "data": {
      "text/plain": [
       "SALE TYPE            20490\n",
       "PROPERTY TYPE        20490\n",
       "CITY                 20485\n",
       "STATE OR PROVINCE    20489\n",
       "PRICE                20490\n",
       "BEDS                 20481\n",
       "BATHS                20322\n",
       "SQUARE FEET          20465\n",
       "LOT SIZE             16513\n",
       "YEAR BUILT           20365\n",
       "DAYS ON MARKET       20415\n",
       "LATITUDE             20490\n",
       "LONGITUDE            20490\n",
       "dtype: int64"
      ]
     },
     "execution_count": 14,
     "metadata": {},
     "output_type": "execute_result"
    }
   ],
   "source": [
    "# Figure a better way to do this \n",
    "# data[data['PROPERTY TYPE'] == 'Vacant Land']\n",
    "\n",
    "\n",
    "#get the indexes of the property types wished to be dropped\n",
    "drop_vacant = data[data['PROPERTY TYPE'] == 'Vacant Land'].index\n",
    "drop_parking = data[data['PROPERTY TYPE'] == 'Parking'].index\n",
    "#drop these weird cities\n",
    "drop_city_bath = data[data['CITY'] == 'Bath'].index \n",
    "drop_city_6 = data[data['CITY'] == 6.0].index\n",
    "drop_t3_city = data[data['CITY'] == 'T3 R12 WELS'].index\n",
    "drop_redfin_data = data[data['SALE TYPE'] == 'Redfin Data'].index\n",
    "\n",
    "data = data.drop(list(drop_vacant))\n",
    "data = data.drop(list(drop_parking))\n",
    "data = data.drop(list(drop_city_bath))\n",
    "data = data.drop(list(drop_city_6))\n",
    "data = data.drop(list(drop_t3_city))\n",
    "data = data.drop(list(drop_redfin_data))\n",
    "#could also set all nulls in vacant land to 0, but take the median value prior \n",
    "\n",
    "\n",
    "\n",
    "data.count()"
   ]
  },
  {
   "cell_type": "code",
   "execution_count": 15,
   "metadata": {},
   "outputs": [],
   "source": [
    "# #well thats a skewy entry, need to drop more mis-entered numbers\n",
    "# data.loc[data['BATHS'].idxmax()]\n",
    "# #drop this mf\n",
    "# #drop this weird entry, should make conditional after, only run once\n",
    "# data = data.drop([(data['BATHS'].idxmax())])\n",
    "# #drop this incorrectly entered prop\n",
    "# data = data.drop([(data['SQUARE FEET'].idxmax())])\n",
    "# #should create a conditional seems like there are quite a few properties that are listed incorrectly\n",
    "# data = data.drop([data['SQUARE FEET'].idxmax()])\n",
    "# #i need a better way \n",
    "# data = data.drop([(data['SQUARE FEET'].idxmin())])\n",
    "# data = data.drop([(data['SQUARE FEET'].idxmin())])\n",
    "# data = data.drop([(data['SQUARE FEET'].idxmin())])"
   ]
  },
  {
   "cell_type": "code",
   "execution_count": 16,
   "metadata": {
    "scrolled": true
   },
   "outputs": [
    {
     "data": {
      "text/plain": [
       "SALE TYPE            15173\n",
       "PROPERTY TYPE        15173\n",
       "CITY                 15173\n",
       "STATE OR PROVINCE    15173\n",
       "PRICE                15173\n",
       "BEDS                 15173\n",
       "BATHS                15173\n",
       "SQUARE FEET          15173\n",
       "LOT SIZE             15173\n",
       "YEAR BUILT           15173\n",
       "DAYS ON MARKET       15173\n",
       "LATITUDE             15173\n",
       "LONGITUDE            15173\n",
       "dtype: int64"
      ]
     },
     "execution_count": 16,
     "metadata": {},
     "output_type": "execute_result"
    }
   ],
   "source": [
    "#remove categories that are less than 30 from property history, nvm removes too many \n",
    "# data = data.groupby('PROPERTY TYPE').filter(lambda x: len(x) > 30)\n",
    "\n",
    "#replace null values of 'days on market' with median\n",
    "data = data.fillna(data[\"DAYS ON MARKET\"].median())\n",
    "\n",
    "#fill the lot size with median as well\n",
    "data = data.fillna(data['LOT SIZE'].median())\n",
    "data = data.fillna(data['SQUARE FEET'].median())\n",
    "#should I do this after I drop low counts?\n",
    "data = data.fillna(data['BEDS'].median())\n",
    "data = data.fillna(data['BATHS'].median())\n",
    "#need to drop rows that have one entry for city and property type\n",
    "data = data.groupby(['CITY', 'PROPERTY TYPE']).filter(lambda x: len(x)>20)\n",
    "\n",
    "#120sq minimum, drop all others\n",
    "data = data[~(data['SQUARE FEET'] < 120)]\n",
    "#No entries without a full bathroom\n",
    "data = data[~(data['BATHS'] < 1)]\n",
    "#Needs a minimum of 1 bedroom\n",
    "data = data[~(data['BEDS'] <= 0)]\n",
    "\n",
    "data.count()"
   ]
  },
  {
   "cell_type": "code",
   "execution_count": 17,
   "metadata": {},
   "outputs": [
    {
     "name": "stdout",
     "output_type": "stream",
     "text": [
      "(array([    0,     1,     2, ..., 15093, 15094, 15147]), array([7, 7, 7, ..., 6, 6, 6]))\n"
     ]
    },
    {
     "data": {
      "text/plain": [
       "SALE TYPE            13904\n",
       "PROPERTY TYPE        13904\n",
       "CITY                 13904\n",
       "STATE OR PROVINCE    13904\n",
       "PRICE                13904\n",
       "BEDS                 13904\n",
       "BATHS                13904\n",
       "SQUARE FEET          13904\n",
       "LOT SIZE             13904\n",
       "YEAR BUILT           13904\n",
       "DAYS ON MARKET       13904\n",
       "LATITUDE             13904\n",
       "LONGITUDE            13904\n",
       "dtype: int64"
      ]
     },
     "execution_count": 17,
     "metadata": {},
     "output_type": "execute_result"
    }
   ],
   "source": [
    "from scipy import stats\n",
    "only_numbers = data.drop([\"PROPERTY TYPE\", 'CITY', \"STATE OR PROVINCE\", 'SALE TYPE'], axis=1)\n",
    "\n",
    "z = np.abs(stats.zscore(only_numbers))\n",
    "print(np.where(z > 3)) # first row list of score, second column number \n",
    "data = data[(z < 3).all(axis=1)] # 3 stdevs remove\n",
    "data.count()"
   ]
  },
  {
   "cell_type": "code",
   "execution_count": 18,
   "metadata": {},
   "outputs": [
    {
     "name": "stdout",
     "output_type": "stream",
     "text": [
      "PRICE             360100.000000\n",
      "BEDS                   1.000000\n",
      "BATHS                  1.500000\n",
      "SQUARE FEET         1560.000000\n",
      "LOT SIZE           42689.000000\n",
      "YEAR BUILT            56.000000\n",
      "DAYS ON MARKET        90.000000\n",
      "LATITUDE               0.445670\n",
      "LONGITUDE              1.035793\n",
      "dtype: float64\n"
     ]
    }
   ],
   "source": [
    "Q1 = data.quantile(0.25)\n",
    "Q3 = data.quantile(0.75)\n",
    "IQR = Q3 - Q1\n",
    "print(IQR) #inter quartile range"
   ]
  },
  {
   "cell_type": "code",
   "execution_count": 19,
   "metadata": {},
   "outputs": [
    {
     "data": {
      "text/html": [
       "<div>\n",
       "<style scoped>\n",
       "    .dataframe tbody tr th:only-of-type {\n",
       "        vertical-align: middle;\n",
       "    }\n",
       "\n",
       "    .dataframe tbody tr th {\n",
       "        vertical-align: top;\n",
       "    }\n",
       "\n",
       "    .dataframe thead th {\n",
       "        text-align: right;\n",
       "    }\n",
       "</style>\n",
       "<table border=\"1\" class=\"dataframe\">\n",
       "  <thead>\n",
       "    <tr style=\"text-align: right;\">\n",
       "      <th></th>\n",
       "      <th>PRICE</th>\n",
       "      <th>BEDS</th>\n",
       "      <th>BATHS</th>\n",
       "      <th>SQUARE FEET</th>\n",
       "      <th>LOT SIZE</th>\n",
       "      <th>YEAR BUILT</th>\n",
       "      <th>DAYS ON MARKET</th>\n",
       "      <th>LATITUDE</th>\n",
       "      <th>LONGITUDE</th>\n",
       "    </tr>\n",
       "  </thead>\n",
       "  <tbody>\n",
       "    <tr>\n",
       "      <th>count</th>\n",
       "      <td>1.390400e+04</td>\n",
       "      <td>13904.000000</td>\n",
       "      <td>13904.000000</td>\n",
       "      <td>13904.000000</td>\n",
       "      <td>1.390400e+04</td>\n",
       "      <td>13904.000000</td>\n",
       "      <td>13904.000000</td>\n",
       "      <td>13904.000000</td>\n",
       "      <td>13904.000000</td>\n",
       "    </tr>\n",
       "    <tr>\n",
       "      <th>mean</th>\n",
       "      <td>5.281527e+05</td>\n",
       "      <td>3.353927</td>\n",
       "      <td>2.409253</td>\n",
       "      <td>2362.431890</td>\n",
       "      <td>5.759064e+04</td>\n",
       "      <td>1963.069117</td>\n",
       "      <td>76.655854</td>\n",
       "      <td>41.533589</td>\n",
       "      <td>-72.616989</td>\n",
       "    </tr>\n",
       "    <tr>\n",
       "      <th>std</th>\n",
       "      <td>5.067810e+05</td>\n",
       "      <td>1.088322</td>\n",
       "      <td>1.063562</td>\n",
       "      <td>1281.337101</td>\n",
       "      <td>2.131024e+05</td>\n",
       "      <td>47.383755</td>\n",
       "      <td>94.774845</td>\n",
       "      <td>0.295059</td>\n",
       "      <td>0.739530</td>\n",
       "    </tr>\n",
       "    <tr>\n",
       "      <th>min</th>\n",
       "      <td>1.490000e+04</td>\n",
       "      <td>1.000000</td>\n",
       "      <td>1.000000</td>\n",
       "      <td>273.000000</td>\n",
       "      <td>1.000000e+00</td>\n",
       "      <td>1686.000000</td>\n",
       "      <td>1.000000</td>\n",
       "      <td>41.000596</td>\n",
       "      <td>-73.704778</td>\n",
       "    </tr>\n",
       "    <tr>\n",
       "      <th>25%</th>\n",
       "      <td>2.399000e+05</td>\n",
       "      <td>3.000000</td>\n",
       "      <td>1.500000</td>\n",
       "      <td>1428.000000</td>\n",
       "      <td>5.227000e+03</td>\n",
       "      <td>1942.000000</td>\n",
       "      <td>8.000000</td>\n",
       "      <td>41.304637</td>\n",
       "      <td>-73.212116</td>\n",
       "    </tr>\n",
       "    <tr>\n",
       "      <th>50%</th>\n",
       "      <td>3.699000e+05</td>\n",
       "      <td>3.000000</td>\n",
       "      <td>2.500000</td>\n",
       "      <td>2044.000000</td>\n",
       "      <td>1.611700e+04</td>\n",
       "      <td>1971.000000</td>\n",
       "      <td>43.000000</td>\n",
       "      <td>41.521694</td>\n",
       "      <td>-72.791495</td>\n",
       "    </tr>\n",
       "    <tr>\n",
       "      <th>75%</th>\n",
       "      <td>6.000000e+05</td>\n",
       "      <td>4.000000</td>\n",
       "      <td>3.000000</td>\n",
       "      <td>2988.000000</td>\n",
       "      <td>4.791600e+04</td>\n",
       "      <td>1998.000000</td>\n",
       "      <td>98.000000</td>\n",
       "      <td>41.750307</td>\n",
       "      <td>-72.176324</td>\n",
       "    </tr>\n",
       "    <tr>\n",
       "      <th>max</th>\n",
       "      <td>3.800000e+06</td>\n",
       "      <td>7.000000</td>\n",
       "      <td>6.500000</td>\n",
       "      <td>7600.000000</td>\n",
       "      <td>6.141960e+06</td>\n",
       "      <td>2021.000000</td>\n",
       "      <td>492.000000</td>\n",
       "      <td>42.679517</td>\n",
       "      <td>-70.243693</td>\n",
       "    </tr>\n",
       "  </tbody>\n",
       "</table>\n",
       "</div>"
      ],
      "text/plain": [
       "              PRICE          BEDS         BATHS   SQUARE FEET      LOT SIZE  \\\n",
       "count  1.390400e+04  13904.000000  13904.000000  13904.000000  1.390400e+04   \n",
       "mean   5.281527e+05      3.353927      2.409253   2362.431890  5.759064e+04   \n",
       "std    5.067810e+05      1.088322      1.063562   1281.337101  2.131024e+05   \n",
       "min    1.490000e+04      1.000000      1.000000    273.000000  1.000000e+00   \n",
       "25%    2.399000e+05      3.000000      1.500000   1428.000000  5.227000e+03   \n",
       "50%    3.699000e+05      3.000000      2.500000   2044.000000  1.611700e+04   \n",
       "75%    6.000000e+05      4.000000      3.000000   2988.000000  4.791600e+04   \n",
       "max    3.800000e+06      7.000000      6.500000   7600.000000  6.141960e+06   \n",
       "\n",
       "         YEAR BUILT  DAYS ON MARKET      LATITUDE     LONGITUDE  \n",
       "count  13904.000000    13904.000000  13904.000000  13904.000000  \n",
       "mean    1963.069117       76.655854     41.533589    -72.616989  \n",
       "std       47.383755       94.774845      0.295059      0.739530  \n",
       "min     1686.000000        1.000000     41.000596    -73.704778  \n",
       "25%     1942.000000        8.000000     41.304637    -73.212116  \n",
       "50%     1971.000000       43.000000     41.521694    -72.791495  \n",
       "75%     1998.000000       98.000000     41.750307    -72.176324  \n",
       "max     2021.000000      492.000000     42.679517    -70.243693  "
      ]
     },
     "execution_count": 19,
     "metadata": {},
     "output_type": "execute_result"
    }
   ],
   "source": [
    "#median numbers to fill later, based on columns\n",
    "median_values = data.median().values\n",
    "data.describe()\n",
    "#should I use clustering for latitude, longitude?"
   ]
  },
  {
   "cell_type": "code",
   "execution_count": 20,
   "metadata": {},
   "outputs": [
    {
     "data": {
      "text/html": [
       "<div>\n",
       "<style scoped>\n",
       "    .dataframe tbody tr th:only-of-type {\n",
       "        vertical-align: middle;\n",
       "    }\n",
       "\n",
       "    .dataframe tbody tr th {\n",
       "        vertical-align: top;\n",
       "    }\n",
       "\n",
       "    .dataframe thead th {\n",
       "        text-align: right;\n",
       "    }\n",
       "</style>\n",
       "<table border=\"1\" class=\"dataframe\">\n",
       "  <thead>\n",
       "    <tr style=\"text-align: right;\">\n",
       "      <th></th>\n",
       "      <th>SALE TYPE</th>\n",
       "      <th>PROPERTY TYPE</th>\n",
       "      <th>CITY</th>\n",
       "      <th>STATE OR PROVINCE</th>\n",
       "      <th>PRICE</th>\n",
       "      <th>BEDS</th>\n",
       "      <th>BATHS</th>\n",
       "      <th>SQUARE FEET</th>\n",
       "      <th>LOT SIZE</th>\n",
       "      <th>YEAR BUILT</th>\n",
       "      <th>DAYS ON MARKET</th>\n",
       "      <th>LATITUDE</th>\n",
       "      <th>LONGITUDE</th>\n",
       "    </tr>\n",
       "    <tr>\n",
       "      <th>MLS#</th>\n",
       "      <th></th>\n",
       "      <th></th>\n",
       "      <th></th>\n",
       "      <th></th>\n",
       "      <th></th>\n",
       "      <th></th>\n",
       "      <th></th>\n",
       "      <th></th>\n",
       "      <th></th>\n",
       "      <th></th>\n",
       "      <th></th>\n",
       "      <th></th>\n",
       "      <th></th>\n",
       "    </tr>\n",
       "  </thead>\n",
       "  <tbody>\n",
       "  </tbody>\n",
       "</table>\n",
       "</div>"
      ],
      "text/plain": [
       "Empty DataFrame\n",
       "Columns: [SALE TYPE, PROPERTY TYPE, CITY, STATE OR PROVINCE, PRICE, BEDS, BATHS, SQUARE FEET, LOT SIZE, YEAR BUILT, DAYS ON MARKET, LATITUDE, LONGITUDE]\n",
       "Index: []"
      ]
     },
     "execution_count": 20,
     "metadata": {},
     "output_type": "execute_result"
    }
   ],
   "source": [
    "#check for null values\n",
    "data[data.isnull().any(axis=1)].head()"
   ]
  },
  {
   "cell_type": "code",
   "execution_count": 21,
   "metadata": {},
   "outputs": [
    {
     "data": {
      "text/plain": [
       "(SALE TYPE                          MLS Listing\n",
       " PROPERTY TYPE        Single Family Residential\n",
       " CITY                                  Trumbull\n",
       " STATE OR PROVINCE                           CT\n",
       " PRICE                                  1199000\n",
       " BEDS                                         5\n",
       " BATHS                                        6\n",
       " SQUARE FEET                               7600\n",
       " LOT SIZE                                 34848\n",
       " YEAR BUILT                                2004\n",
       " DAYS ON MARKET                             401\n",
       " LATITUDE                               41.2779\n",
       " LONGITUDE                             -73.2617\n",
       " Name: 170179786, dtype: object, SALE TYPE                          MLS Listing\n",
       " PROPERTY TYPE        Single Family Residential\n",
       " CITY                                 Southbury\n",
       " STATE OR PROVINCE                           CT\n",
       " PRICE                                   125000\n",
       " BEDS                                         1\n",
       " BATHS                                        1\n",
       " SQUARE FEET                                273\n",
       " LOT SIZE                                 65775\n",
       " YEAR BUILT                                1950\n",
       " DAYS ON MARKET                             227\n",
       " LATITUDE                               41.4606\n",
       " LONGITUDE                              -73.169\n",
       " Name: 170238583, dtype: object)"
      ]
     },
     "execution_count": 21,
     "metadata": {},
     "output_type": "execute_result"
    }
   ],
   "source": [
    "#170291934, 170271291, 170284312, 108829,G10219151\n",
    "#could set threshold for minimum square footage\n",
    "data.loc[data['SQUARE FEET'].idxmax()], data.loc[data['SQUARE FEET'].idxmin()] "
   ]
  },
  {
   "cell_type": "code",
   "execution_count": 22,
   "metadata": {},
   "outputs": [
    {
     "data": {
      "text/plain": [
       "(array(['Single Family Residential', 'Multi-Family (2-4 Unit)',\n",
       "        'Condo/Co-op'], dtype=object),\n",
       " array([3., 4., 5., 2., 1., 6., 7.]),\n",
       " array([2.  , 3.5 , 2.5 , 3.  , 1.  , 4.  , 1.5 , 5.  , 4.5 , 5.5 , 6.5 ,\n",
       "        6.  , 1.75]))"
      ]
     },
     "execution_count": 22,
     "metadata": {},
     "output_type": "execute_result"
    }
   ],
   "source": [
    "#double check\n",
    "data['PROPERTY TYPE'].unique(), data['BEDS'].unique(), data['BATHS'].unique()\n"
   ]
  },
  {
   "cell_type": "markdown",
   "metadata": {},
   "source": [
    "should make a ratio for filling null values, for example there probably a rule of thumb for average baths to bedrooms and sqaure feet, and could use this ratio for filling null values"
   ]
  },
  {
   "cell_type": "code",
   "execution_count": 23,
   "metadata": {},
   "outputs": [],
   "source": [
    "#it is possible to stratify here \n",
    "from sklearn.model_selection import train_test_split\n",
    "\n",
    "train_set, test_set = train_test_split(data,\n",
    "                                       test_size=0.2, \n",
    "                                       random_state=42,\n",
    "                                       stratify=data[\"PROPERTY TYPE\"] + data['CITY'] \n",
    "                                       \n",
    "                                      )\n",
    "#split for validation set\n",
    "x_to_split = train_set.drop([\"PRICE\",\n",
    "                ], axis=1)\n",
    "y_to_split = train_set[\"PRICE\"].copy()\n",
    "\n",
    "#Split on Property History, otherwise the Cats: Townhouse, Parking maybe omitted from a set\n",
    "#appears that there might not be enough data to split by property and city as well\n",
    "X_train, X_valid, y_train, y_valid = train_test_split(x_to_split, y_to_split, \n",
    "                                                      stratify= x_to_split[\"PROPERTY TYPE\"]\n",
    "                                                      + x_to_split['CITY'] ,\n",
    "                                                      random_state=42)\n",
    "\n",
    "#same for the test set\n",
    "X_test = test_set.drop([\"PRICE\"], axis=1)\n",
    "y_test = test_set[\"PRICE\"].copy()"
   ]
  },
  {
   "cell_type": "code",
   "execution_count": 24,
   "metadata": {},
   "outputs": [
    {
     "data": {
      "text/plain": [
       "(180, 180)"
      ]
     },
     "execution_count": 24,
     "metadata": {},
     "output_type": "execute_result"
    }
   ],
   "source": [
    "#count how many unique groups\n",
    "train_set['CITY'].nunique(), test_set['CITY'].nunique()"
   ]
  },
  {
   "cell_type": "code",
   "execution_count": 25,
   "metadata": {},
   "outputs": [
    {
     "data": {
      "text/plain": [
       "(3, 3, 3)"
      ]
     },
     "execution_count": 25,
     "metadata": {},
     "output_type": "execute_result"
    }
   ],
   "source": [
    "X_train['STATE OR PROVINCE'].nunique(), X_valid['STATE OR PROVINCE'].nunique(), X_test['STATE OR PROVINCE'].nunique()"
   ]
  },
  {
   "cell_type": "code",
   "execution_count": 26,
   "metadata": {},
   "outputs": [
    {
     "data": {
      "text/plain": [
       "SALE TYPE            11084\n",
       "PROPERTY TYPE        11084\n",
       "CITY                 11084\n",
       "STATE OR PROVINCE    11084\n",
       "BEDS                 11084\n",
       "BATHS                11084\n",
       "SQUARE FEET          11084\n",
       "LOT SIZE             11084\n",
       "YEAR BUILT           11084\n",
       "DAYS ON MARKET       11084\n",
       "LATITUDE             11084\n",
       "LONGITUDE            11084\n",
       "dtype: int64"
      ]
     },
     "execution_count": 26,
     "metadata": {},
     "output_type": "execute_result"
    }
   ],
   "source": [
    "#double check \n",
    "x_to_split.groupby(['PROPERTY TYPE', 'CITY', 'STATE OR PROVINCE']).filter(lambda x: len(x)> 4).count()"
   ]
  },
  {
   "cell_type": "markdown",
   "metadata": {},
   "source": [
    "# Preprocessing"
   ]
  },
  {
   "cell_type": "code",
   "execution_count": 27,
   "metadata": {},
   "outputs": [],
   "source": [
    "from sklearn.pipeline import Pipeline\n",
    "from sklearn.preprocessing import StandardScaler\n",
    "from sklearn.preprocessing import OneHotEncoder\n",
    "from sklearn.impute import SimpleImputer\n",
    "\n",
    "\n",
    "\n",
    "#all columns other than property category\n",
    "numerical_attributes = list(X_train.drop([\"PROPERTY TYPE\", 'CITY', \"STATE OR PROVINCE\", \"SALE TYPE\"], axis=1))\n",
    "#Property and Cities\n",
    "#!!!I should auto list these\n",
    "categorical_attributes = list(X_train[[\"PROPERTY TYPE\", \"CITY\", \"STATE OR PROVINCE\", \"SALE TYPE\"]])\n",
    "\n",
    "\n",
    "\n",
    "\n",
    "num_pipeline = Pipeline([\n",
    "    ('imputer', SimpleImputer(strategy='median')),\n",
    "    ('scaler', StandardScaler()),\n",
    "])\n",
    "\n",
    "\n",
    "\n",
    "categorical_pipeline = Pipeline([\n",
    "    ('imputer', SimpleImputer(strategy='most_frequent')),\n",
    "    ('one_hot', OneHotEncoder(sparse=False)),\n",
    "])"
   ]
  },
  {
   "cell_type": "code",
   "execution_count": 28,
   "metadata": {},
   "outputs": [],
   "source": [
    "#another option is to prep the data into a simple pipeline, this example utilizes a seperate numerical and categorical\n",
    "from sklearn.compose import ColumnTransformer\n",
    "\n",
    "full_pipeline = ColumnTransformer([\n",
    "    (\"numerical_attributes\", num_pipeline, numerical_attributes),\n",
    "    (\"categorical_attributes\", categorical_pipeline, categorical_attributes),\n",
    " \n",
    "])\n",
    "\n",
    "x_train_prepared = full_pipeline.fit_transform(X_train)\n",
    "x_valid_prepared = full_pipeline.fit_transform(X_valid)\n",
    "x_test_prepared = full_pipeline.fit_transform(X_test)"
   ]
  },
  {
   "cell_type": "code",
   "execution_count": 29,
   "metadata": {},
   "outputs": [
    {
     "data": {
      "text/plain": [
       "((8342, 197), (2781, 197), (2781, 197))"
      ]
     },
     "execution_count": 29,
     "metadata": {},
     "output_type": "execute_result"
    }
   ],
   "source": [
    "#check the dimensions are the same\n",
    "x_train_prepared.shape, x_valid_prepared.shape, x_test_prepared.shape\n",
    "#not property type,"
   ]
  },
  {
   "cell_type": "markdown",
   "metadata": {},
   "source": [
    "# Dimension reduction"
   ]
  },
  {
   "cell_type": "code",
   "execution_count": 30,
   "metadata": {},
   "outputs": [],
   "source": [
    "from sklearn.decomposition import PCA\n",
    "pca = PCA(n_components=0.95) # preserve 95% of variance\n",
    "maintain_pca = PCA(n_components=55) #number of dimensions for training set\n",
    "x_train_rd = pca.fit_transform(x_train_prepared)\n",
    "x_test_rd = maintain_pca.fit_transform(x_test_prepared)\n",
    "x_valid_rd = maintain_pca.fit_transform(x_valid_prepared)"
   ]
  },
  {
   "cell_type": "code",
   "execution_count": 31,
   "metadata": {
    "scrolled": true
   },
   "outputs": [
    {
     "data": {
      "text/plain": [
       "MLS#\n",
       "170275788    1949000\n",
       "170290940     169000\n",
       "170289142     174900\n",
       "1248100       290000\n",
       "170285397     189900\n",
       "Name: PRICE, dtype: int64"
      ]
     },
     "execution_count": 31,
     "metadata": {},
     "output_type": "execute_result"
    }
   ],
   "source": [
    "some_labels = y_test[:5]\n",
    "some_data = x_test_prepared[:5]\n",
    "some_data_rd  = x_test_rd[:5]\n",
    "some_labels"
   ]
  },
  {
   "cell_type": "markdown",
   "metadata": {},
   "source": [
    "# Linear Regression\n",
    "  67% best r^2"
   ]
  },
  {
   "cell_type": "code",
   "execution_count": 32,
   "metadata": {},
   "outputs": [
    {
     "data": {
      "text/plain": [
       "0.67371826218442"
      ]
     },
     "execution_count": 32,
     "metadata": {},
     "output_type": "execute_result"
    }
   ],
   "source": [
    "#try training now\n",
    "from sklearn.linear_model import LinearRegression\n",
    "lin_reg = LinearRegression()\n",
    "lin_reg_fitted = lin_reg.fit(x_train_prepared, y_train)\n",
    "#score is the r2\n",
    "lin_reg.score(x_test_prepared, y_test)"
   ]
  },
  {
   "cell_type": "code",
   "execution_count": 33,
   "metadata": {},
   "outputs": [
    {
     "data": {
      "text/plain": [
       "0.6465149272211934"
      ]
     },
     "execution_count": 33,
     "metadata": {},
     "output_type": "execute_result"
    }
   ],
   "source": [
    "lin_reg.score(x_valid_prepared, y_valid)\n",
    "# better 67% on both validation and test sets"
   ]
  },
  {
   "cell_type": "code",
   "execution_count": 34,
   "metadata": {},
   "outputs": [
    {
     "data": {
      "text/plain": [
       "(array([1527808.,  203776.,  233472.,  193536.,  180224.]), MLS#\n",
       " 170275788    1949000\n",
       " 170290940     169000\n",
       " 170289142     174900\n",
       " 1248100       290000\n",
       " 170285397     189900\n",
       " Name: PRICE, dtype: int64)"
      ]
     },
     "execution_count": 34,
     "metadata": {},
     "output_type": "execute_result"
    }
   ],
   "source": [
    "lin_reg.predict(some_data), some_labels"
   ]
  },
  {
   "cell_type": "code",
   "execution_count": 35,
   "metadata": {},
   "outputs": [],
   "source": [
    "import pickle \n",
    "\n",
    "pickle.dump(lin_reg_fitted, open('linear_reg.sav', 'wb'))"
   ]
  },
  {
   "cell_type": "code",
   "execution_count": 36,
   "metadata": {},
   "outputs": [
    {
     "data": {
      "text/plain": [
       "array([282820.77312774, 269433.71082202, 270445.15616029, 280324.53422578,\n",
       "       300699.98732013, 306016.48790585, 289242.42683953, 265949.63129272,\n",
       "       266452.59271682, 302307.9494932 ])"
      ]
     },
     "execution_count": 36,
     "metadata": {},
     "output_type": "execute_result"
    }
   ],
   "source": [
    "lin_scores = cross_val_score(lin_reg, x_train_prepared, y_train, scoring=\"neg_mean_squared_error\", cv=10)\n",
    "lin_rmse_scores = np.sqrt(-lin_scores)\n",
    "lin_rmse_scores #240-280k"
   ]
  },
  {
   "cell_type": "code",
   "execution_count": 37,
   "metadata": {},
   "outputs": [
    {
     "data": {
      "text/plain": [
       "277596.25254320685"
      ]
     },
     "execution_count": 37,
     "metadata": {},
     "output_type": "execute_result"
    }
   ],
   "source": [
    "#check the mean square error for performance of the linear regression\n",
    "from sklearn.metrics import mean_squared_error\n",
    "\n",
    "housing_predictions = lin_reg.predict(x_train_prepared)\n",
    "lin_mse = mean_squared_error(y_train, housing_predictions)\n",
    "lin_rmse = np.sqrt(lin_mse)\n",
    "lin_rmse"
   ]
  },
  {
   "cell_type": "code",
   "execution_count": 38,
   "metadata": {
    "scrolled": true
   },
   "outputs": [
    {
     "name": "stdout",
     "output_type": "stream",
     "text": [
      "Scores:  [-2.57443347e+29 -8.96467971e+10 -6.07817383e+27]\n",
      "Mean:  -8.78405069438381e+28\n",
      "Standard_deviation:  1.1995298680689566e+29\n"
     ]
    },
    {
     "name": "stderr",
     "output_type": "stream",
     "text": [
      "/media/tim/Primary Storage/projects/machine_learning/ml_env/local/lib/python3.6/site-packages/sklearn/model_selection/_split.py:1978: FutureWarning: The default value of cv will change from 3 to 5 in version 0.22. Specify it explicitly to silence this warning.\n",
      "  warnings.warn(CV_WARNING, FutureWarning)\n"
     ]
    }
   ],
   "source": [
    "#the linear regression actually preforms better on this smaller training set\n",
    "#scoring: explained_variance, max_error, neg_root_mean_squared_error, r2\n",
    "#neg_mean_absolute_error\n",
    "np.random.seed(42)\n",
    "linear_regression_scores = cross_val_score(lin_reg, x_train_prepared, y_train, \n",
    "                                           scoring='neg_mean_absolute_error', cv=10)\n",
    "linear_regression_rmse_scores = np.sqrt(-linear_regression_scores)\n",
    "display_scores(lin_reg, x_test_prepared, y_test)"
   ]
  },
  {
   "cell_type": "code",
   "execution_count": 39,
   "metadata": {},
   "outputs": [],
   "source": [
    "# def list_params(model)\n",
    "#     feature_importances = model.a\n",
    "#     category_encoder = full_pipeline.named_transformers_[\"categorical_attributes\"][\"one_hot\"]\n",
    "#     cat_one_hot_attributes = list(category_encoder.categories_[0])\n",
    "#     attributes = numerical_attributes + cat_one_hot_attributes\n",
    "#     sorted(zip(feature_importances, attributes), reverse=True)\n",
    "# # def display_params():"
   ]
  },
  {
   "cell_type": "markdown",
   "metadata": {},
   "source": [
    "# Decision Tree\n",
    "\n",
    "  Pretty good model "
   ]
  },
  {
   "cell_type": "code",
   "execution_count": 40,
   "metadata": {},
   "outputs": [
    {
     "data": {
      "text/plain": [
       "(0.5563657717030945, 0.4866587965658981)"
      ]
     },
     "execution_count": 40,
     "metadata": {},
     "output_type": "execute_result"
    }
   ],
   "source": [
    "#using a decision tree model rather than the linear regression\n",
    "from sklearn.tree import DecisionTreeRegressor\n",
    "\n",
    "decision_tree_reg = DecisionTreeRegressor(random_state=42)\n",
    "decision_tree_reg.fit(x_train_prepared, y_train)\n",
    "decision_tree_reg.score(x_test_prepared, y_test), decision_tree_reg.score(x_valid_prepared, y_valid)\n",
    "               #fits about 60% of data "
   ]
  },
  {
   "cell_type": "code",
   "execution_count": 41,
   "metadata": {},
   "outputs": [
    {
     "name": "stdout",
     "output_type": "stream",
     "text": [
      "Predictions:  [1299000.  309900.  169875.   59900.  190000.]\n",
      "actual: [1949000, 169000, 174900, 290000, 189900]\n"
     ]
    }
   ],
   "source": [
    "#does well on data around price 200k-300k\n",
    "decisions_tree_pred = compare_scores(decision_tree_reg, some_data, some_labels)"
   ]
  },
  {
   "cell_type": "code",
   "execution_count": 42,
   "metadata": {},
   "outputs": [
    {
     "data": {
      "text/plain": [
       "array([341470.04380772, 344632.24441053, 304567.51611909, 306292.79985898,\n",
       "       343978.88135196, 319639.08603923, 384197.69951516, 323780.93297732,\n",
       "       343958.67820337, 344586.19055792])"
      ]
     },
     "execution_count": 42,
     "metadata": {},
     "output_type": "execute_result"
    }
   ],
   "source": [
    "#fine tune the model by splitting the training/test data into representative groups\n",
    "scores = cross_val_score(decision_tree_reg, x_train_prepared, y_train, scoring=\"neg_mean_squared_error\", cv=10)\n",
    "tree_revised_rmnse_scores = np.sqrt(-scores)\n",
    "tree_revised_rmnse_scores "
   ]
  },
  {
   "cell_type": "code",
   "execution_count": 43,
   "metadata": {},
   "outputs": [
    {
     "data": {
      "text/plain": [
       "count        10.000000\n",
       "mean     335710.407284\n",
       "std       23368.654895\n",
       "min      304567.516119\n",
       "25%      320674.547774\n",
       "50%      342714.361006\n",
       "75%      344434.363256\n",
       "max      384197.699515\n",
       "dtype: float64"
      ]
     },
     "execution_count": 43,
     "metadata": {},
     "output_type": "execute_result"
    }
   ],
   "source": [
    "pd.Series(np.sqrt(-scores)).describe()"
   ]
  },
  {
   "cell_type": "code",
   "execution_count": 44,
   "metadata": {},
   "outputs": [
    {
     "data": {
      "text/plain": [
       "882.6513737679679"
      ]
     },
     "execution_count": 44,
     "metadata": {},
     "output_type": "execute_result"
    }
   ],
   "source": [
    "decision_tree_predictions = decision_tree_reg.predict(x_train_prepared)\n",
    "tree_mse = mean_squared_error(y_train, decision_tree_predictions)\n",
    "tree_root_rmse = np.sqrt(tree_mse)\n",
    "tree_root_rmse  #lowest rmse!"
   ]
  },
  {
   "cell_type": "code",
   "execution_count": 45,
   "metadata": {},
   "outputs": [
    {
     "name": "stdout",
     "output_type": "stream",
     "text": [
      "Scores:  [-1.68381794e+11 -1.30641286e+11 -1.27567524e+11]\n",
      "Mean:  -142196868121.49442\n",
      "Standard_deviation:  18558012766.296688\n"
     ]
    },
    {
     "name": "stderr",
     "output_type": "stream",
     "text": [
      "/media/tim/Primary Storage/projects/machine_learning/ml_env/local/lib/python3.6/site-packages/sklearn/model_selection/_split.py:1978: FutureWarning: The default value of cv will change from 3 to 5 in version 0.22. Specify it explicitly to silence this warning.\n",
      "  warnings.warn(CV_WARNING, FutureWarning)\n"
     ]
    }
   ],
   "source": [
    "display_scores(decision_tree_reg, x_test_prepared, y_test)"
   ]
  },
  {
   "cell_type": "code",
   "execution_count": 46,
   "metadata": {},
   "outputs": [
    {
     "name": "stdout",
     "output_type": "stream",
     "text": [
      "Predictions:  [1299000.  309900.  169875.   59900.  190000.]\n",
      "actual: [1949000, 169000, 174900, 290000, 189900]\n"
     ]
    }
   ],
   "source": [
    "compare_scores(decision_tree_reg, some_data, some_labels)"
   ]
  },
  {
   "cell_type": "code",
   "execution_count": 47,
   "metadata": {},
   "outputs": [],
   "source": [
    "pickle.dump(decision_tree_reg, open('decision_tree.sav', 'wb'))"
   ]
  },
  {
   "cell_type": "markdown",
   "metadata": {},
   "source": [
    "# SVR "
   ]
  },
  {
   "cell_type": "code",
   "execution_count": 48,
   "metadata": {},
   "outputs": [
    {
     "data": {
      "text/plain": [
       "526291.9768825828"
      ]
     },
     "execution_count": 48,
     "metadata": {},
     "output_type": "execute_result"
    }
   ],
   "source": [
    "#SVR model\n",
    "from sklearn.svm import SVR \n",
    "\n",
    "#i should make a function to call each modules easily with the fit, etc. like below\n",
    "svm_regression = SVR(kernel='linear')\n",
    "svm_regression.fit(x_train_prepared, y_train)\n",
    "housing_predictions = svm_regression.predict(x_train_prepared)\n",
    "svm_mse = mean_squared_error(y_train, housing_predictions)\n",
    "#unsure why sometimes it was run \n",
    "rmse_svm = np.sqrt(svm_mse)\n",
    "rmse_svm"
   ]
  },
  {
   "cell_type": "code",
   "execution_count": 49,
   "metadata": {},
   "outputs": [
    {
     "name": "stderr",
     "output_type": "stream",
     "text": [
      "/media/tim/Primary Storage/projects/machine_learning/ml_env/local/lib/python3.6/site-packages/sklearn/model_selection/_split.py:1978: FutureWarning: The default value of cv will change from 3 to 5 in version 0.22. Specify it explicitly to silence this warning.\n",
      "  warnings.warn(CV_WARNING, FutureWarning)\n"
     ]
    },
    {
     "name": "stdout",
     "output_type": "stream",
     "text": [
      "Scores:  [-3.59714433e+11 -2.48825751e+11 -2.74536616e+11]\n",
      "Mean:  -294358933429.5322\n",
      "Standard_deviation:  47390351831.75455\n"
     ]
    }
   ],
   "source": [
    "display_scores(svm_regression, x_test_prepared, y_test)"
   ]
  },
  {
   "cell_type": "code",
   "execution_count": 50,
   "metadata": {},
   "outputs": [
    {
     "name": "stdout",
     "output_type": "stream",
     "text": [
      "Predictions:  [401102.56771614 366451.60603855 363502.07095135 366152.10054864\n",
      " 365282.21248295]\n",
      "actual: [1949000, 169000, 174900, 290000, 189900]\n"
     ]
    }
   ],
   "source": [
    "compare_scores(svm_regression, some_data, some_labels) "
   ]
  },
  {
   "cell_type": "markdown",
   "metadata": {},
   "source": [
    "focuses on the average too much, centered around 360k\n"
   ]
  },
  {
   "cell_type": "code",
   "execution_count": 51,
   "metadata": {},
   "outputs": [],
   "source": [
    "pickle.dump(svm_regression, open('svm_reg.sav', 'wb'))"
   ]
  },
  {
   "cell_type": "markdown",
   "metadata": {},
   "source": [
    "# Random Forest Regression\n",
    "-mediocre"
   ]
  },
  {
   "cell_type": "code",
   "execution_count": 52,
   "metadata": {},
   "outputs": [],
   "source": [
    "#check multiple types of models at once \n",
    "\n",
    "from sklearn.model_selection import GridSearchCV\n",
    "\n",
    "param_grid = [\n",
    "    #estimators are the number of 'trees', 'features' are the parameters\n",
    "    {'n_estimators':[3,10,3], 'max_features':[2,4,6,8]},\n",
    "    {'bootstrap':[False], 'n_estimators':[3, 10], 'max_features': [2,3,4]},\n",
    "    \n",
    "]"
   ]
  },
  {
   "cell_type": "code",
   "execution_count": 53,
   "metadata": {
    "scrolled": true
   },
   "outputs": [
    {
     "name": "stdout",
     "output_type": "stream",
     "text": [
      "Fitting 5 folds for each of 18 candidates, totalling 90 fits\n",
      "[CV] max_features=2, n_estimators=3 ..................................\n",
      "[CV] ................... max_features=2, n_estimators=3, total=   0.0s\n",
      "[CV] max_features=2, n_estimators=3 ..................................\n",
      "[CV] ................... max_features=2, n_estimators=3, total=   0.0s\n",
      "[CV] max_features=2, n_estimators=3 ..................................\n",
      "[CV] ................... max_features=2, n_estimators=3, total=   0.0s\n",
      "[CV] max_features=2, n_estimators=3 ..................................\n",
      "[CV] ................... max_features=2, n_estimators=3, total=   0.0s\n",
      "[CV] max_features=2, n_estimators=3 ..................................\n"
     ]
    },
    {
     "name": "stderr",
     "output_type": "stream",
     "text": [
      "[Parallel(n_jobs=1)]: Using backend SequentialBackend with 1 concurrent workers.\n",
      "[Parallel(n_jobs=1)]: Done   1 out of   1 | elapsed:    0.0s remaining:    0.0s\n"
     ]
    },
    {
     "name": "stdout",
     "output_type": "stream",
     "text": [
      "[CV] ................... max_features=2, n_estimators=3, total=   0.0s\n",
      "[CV] max_features=2, n_estimators=10 .................................\n",
      "[CV] .................. max_features=2, n_estimators=10, total=   0.1s\n",
      "[CV] max_features=2, n_estimators=10 .................................\n",
      "[CV] .................. max_features=2, n_estimators=10, total=   0.1s\n",
      "[CV] max_features=2, n_estimators=10 .................................\n",
      "[CV] .................. max_features=2, n_estimators=10, total=   0.1s\n",
      "[CV] max_features=2, n_estimators=10 .................................\n",
      "[CV] .................. max_features=2, n_estimators=10, total=   0.1s\n",
      "[CV] max_features=2, n_estimators=10 .................................\n",
      "[CV] .................. max_features=2, n_estimators=10, total=   0.1s\n",
      "[CV] max_features=2, n_estimators=3 ..................................\n",
      "[CV] ................... max_features=2, n_estimators=3, total=   0.0s\n",
      "[CV] max_features=2, n_estimators=3 ..................................\n",
      "[CV] ................... max_features=2, n_estimators=3, total=   0.0s\n",
      "[CV] max_features=2, n_estimators=3 ..................................\n",
      "[CV] ................... max_features=2, n_estimators=3, total=   0.0s\n",
      "[CV] max_features=2, n_estimators=3 ..................................\n",
      "[CV] ................... max_features=2, n_estimators=3, total=   0.0s\n",
      "[CV] max_features=2, n_estimators=3 ..................................\n",
      "[CV] ................... max_features=2, n_estimators=3, total=   0.0s\n",
      "[CV] max_features=4, n_estimators=3 ..................................\n",
      "[CV] ................... max_features=4, n_estimators=3, total=   0.0s\n",
      "[CV] max_features=4, n_estimators=3 ..................................\n",
      "[CV] ................... max_features=4, n_estimators=3, total=   0.0s\n",
      "[CV] max_features=4, n_estimators=3 ..................................\n",
      "[CV] ................... max_features=4, n_estimators=3, total=   0.0s\n",
      "[CV] max_features=4, n_estimators=3 ..................................\n",
      "[CV] ................... max_features=4, n_estimators=3, total=   0.0s\n",
      "[CV] max_features=4, n_estimators=3 ..................................\n",
      "[CV] ................... max_features=4, n_estimators=3, total=   0.0s\n",
      "[CV] max_features=4, n_estimators=10 .................................\n",
      "[CV] .................. max_features=4, n_estimators=10, total=   0.1s\n",
      "[CV] max_features=4, n_estimators=10 .................................\n",
      "[CV] .................. max_features=4, n_estimators=10, total=   0.1s\n",
      "[CV] max_features=4, n_estimators=10 .................................\n",
      "[CV] .................. max_features=4, n_estimators=10, total=   0.1s\n",
      "[CV] max_features=4, n_estimators=10 .................................\n",
      "[CV] .................. max_features=4, n_estimators=10, total=   0.1s\n",
      "[CV] max_features=4, n_estimators=10 .................................\n",
      "[CV] .................. max_features=4, n_estimators=10, total=   0.1s\n",
      "[CV] max_features=4, n_estimators=3 ..................................\n",
      "[CV] ................... max_features=4, n_estimators=3, total=   0.0s\n",
      "[CV] max_features=4, n_estimators=3 ..................................\n",
      "[CV] ................... max_features=4, n_estimators=3, total=   0.0s\n",
      "[CV] max_features=4, n_estimators=3 ..................................\n",
      "[CV] ................... max_features=4, n_estimators=3, total=   0.0s\n",
      "[CV] max_features=4, n_estimators=3 ..................................\n",
      "[CV] ................... max_features=4, n_estimators=3, total=   0.0s\n",
      "[CV] max_features=4, n_estimators=3 ..................................\n",
      "[CV] ................... max_features=4, n_estimators=3, total=   0.0s\n",
      "[CV] max_features=6, n_estimators=3 ..................................\n",
      "[CV] ................... max_features=6, n_estimators=3, total=   0.0s\n",
      "[CV] max_features=6, n_estimators=3 ..................................\n",
      "[CV] ................... max_features=6, n_estimators=3, total=   0.0s\n",
      "[CV] max_features=6, n_estimators=3 ..................................\n",
      "[CV] ................... max_features=6, n_estimators=3, total=   0.0s\n",
      "[CV] max_features=6, n_estimators=3 ..................................\n",
      "[CV] ................... max_features=6, n_estimators=3, total=   0.0s\n",
      "[CV] max_features=6, n_estimators=3 ..................................\n",
      "[CV] ................... max_features=6, n_estimators=3, total=   0.0s\n",
      "[CV] max_features=6, n_estimators=10 .................................\n",
      "[CV] .................. max_features=6, n_estimators=10, total=   0.1s\n",
      "[CV] max_features=6, n_estimators=10 .................................\n",
      "[CV] .................. max_features=6, n_estimators=10, total=   0.1s\n",
      "[CV] max_features=6, n_estimators=10 .................................\n",
      "[CV] .................. max_features=6, n_estimators=10, total=   0.1s\n",
      "[CV] max_features=6, n_estimators=10 .................................\n",
      "[CV] .................. max_features=6, n_estimators=10, total=   0.1s\n",
      "[CV] max_features=6, n_estimators=10 .................................\n",
      "[CV] .................. max_features=6, n_estimators=10, total=   0.1s\n",
      "[CV] max_features=6, n_estimators=3 ..................................\n",
      "[CV] ................... max_features=6, n_estimators=3, total=   0.0s\n",
      "[CV] max_features=6, n_estimators=3 ..................................\n",
      "[CV] ................... max_features=6, n_estimators=3, total=   0.0s\n",
      "[CV] max_features=6, n_estimators=3 ..................................\n",
      "[CV] ................... max_features=6, n_estimators=3, total=   0.0s\n",
      "[CV] max_features=6, n_estimators=3 ..................................\n",
      "[CV] ................... max_features=6, n_estimators=3, total=   0.0s\n",
      "[CV] max_features=6, n_estimators=3 ..................................\n",
      "[CV] ................... max_features=6, n_estimators=3, total=   0.0s\n",
      "[CV] max_features=8, n_estimators=3 ..................................\n",
      "[CV] ................... max_features=8, n_estimators=3, total=   0.0s\n",
      "[CV] max_features=8, n_estimators=3 ..................................\n",
      "[CV] ................... max_features=8, n_estimators=3, total=   0.0s\n",
      "[CV] max_features=8, n_estimators=3 ..................................\n",
      "[CV] ................... max_features=8, n_estimators=3, total=   0.0s\n",
      "[CV] max_features=8, n_estimators=3 ..................................\n",
      "[CV] ................... max_features=8, n_estimators=3, total=   0.0s\n",
      "[CV] max_features=8, n_estimators=3 ..................................\n",
      "[CV] ................... max_features=8, n_estimators=3, total=   0.0s\n",
      "[CV] max_features=8, n_estimators=10 .................................\n",
      "[CV] .................. max_features=8, n_estimators=10, total=   0.1s\n",
      "[CV] max_features=8, n_estimators=10 .................................\n",
      "[CV] .................. max_features=8, n_estimators=10, total=   0.1s\n",
      "[CV] max_features=8, n_estimators=10 .................................\n",
      "[CV] .................. max_features=8, n_estimators=10, total=   0.1s\n",
      "[CV] max_features=8, n_estimators=10 .................................\n",
      "[CV] .................. max_features=8, n_estimators=10, total=   0.1s\n",
      "[CV] max_features=8, n_estimators=10 .................................\n",
      "[CV] .................. max_features=8, n_estimators=10, total=   0.1s\n",
      "[CV] max_features=8, n_estimators=3 ..................................\n",
      "[CV] ................... max_features=8, n_estimators=3, total=   0.0s\n",
      "[CV] max_features=8, n_estimators=3 ..................................\n",
      "[CV] ................... max_features=8, n_estimators=3, total=   0.0s\n",
      "[CV] max_features=8, n_estimators=3 ..................................\n",
      "[CV] ................... max_features=8, n_estimators=3, total=   0.0s\n",
      "[CV] max_features=8, n_estimators=3 ..................................\n",
      "[CV] ................... max_features=8, n_estimators=3, total=   0.0s\n",
      "[CV] max_features=8, n_estimators=3 ..................................\n",
      "[CV] ................... max_features=8, n_estimators=3, total=   0.0s\n",
      "[CV] bootstrap=False, max_features=2, n_estimators=3 .................\n",
      "[CV] .. bootstrap=False, max_features=2, n_estimators=3, total=   0.1s\n",
      "[CV] bootstrap=False, max_features=2, n_estimators=3 .................\n",
      "[CV] .. bootstrap=False, max_features=2, n_estimators=3, total=   0.1s\n",
      "[CV] bootstrap=False, max_features=2, n_estimators=3 .................\n",
      "[CV] .. bootstrap=False, max_features=2, n_estimators=3, total=   0.1s\n",
      "[CV] bootstrap=False, max_features=2, n_estimators=3 .................\n"
     ]
    },
    {
     "name": "stdout",
     "output_type": "stream",
     "text": [
      "[CV] .. bootstrap=False, max_features=2, n_estimators=3, total=   0.1s\n",
      "[CV] bootstrap=False, max_features=2, n_estimators=3 .................\n",
      "[CV] .. bootstrap=False, max_features=2, n_estimators=3, total=   0.1s\n",
      "[CV] bootstrap=False, max_features=2, n_estimators=10 ................\n",
      "[CV] . bootstrap=False, max_features=2, n_estimators=10, total=   0.2s\n",
      "[CV] bootstrap=False, max_features=2, n_estimators=10 ................\n",
      "[CV] . bootstrap=False, max_features=2, n_estimators=10, total=   0.2s\n",
      "[CV] bootstrap=False, max_features=2, n_estimators=10 ................\n",
      "[CV] . bootstrap=False, max_features=2, n_estimators=10, total=   0.2s\n",
      "[CV] bootstrap=False, max_features=2, n_estimators=10 ................\n",
      "[CV] . bootstrap=False, max_features=2, n_estimators=10, total=   0.2s\n",
      "[CV] bootstrap=False, max_features=2, n_estimators=10 ................\n",
      "[CV] . bootstrap=False, max_features=2, n_estimators=10, total=   0.2s\n",
      "[CV] bootstrap=False, max_features=3, n_estimators=3 .................\n",
      "[CV] .. bootstrap=False, max_features=3, n_estimators=3, total=   0.1s\n",
      "[CV] bootstrap=False, max_features=3, n_estimators=3 .................\n",
      "[CV] .. bootstrap=False, max_features=3, n_estimators=3, total=   0.1s\n",
      "[CV] bootstrap=False, max_features=3, n_estimators=3 .................\n",
      "[CV] .. bootstrap=False, max_features=3, n_estimators=3, total=   0.1s\n",
      "[CV] bootstrap=False, max_features=3, n_estimators=3 .................\n",
      "[CV] .. bootstrap=False, max_features=3, n_estimators=3, total=   0.1s\n",
      "[CV] bootstrap=False, max_features=3, n_estimators=3 .................\n",
      "[CV] .. bootstrap=False, max_features=3, n_estimators=3, total=   0.1s\n",
      "[CV] bootstrap=False, max_features=3, n_estimators=10 ................\n",
      "[CV] . bootstrap=False, max_features=3, n_estimators=10, total=   0.2s\n",
      "[CV] bootstrap=False, max_features=3, n_estimators=10 ................\n",
      "[CV] . bootstrap=False, max_features=3, n_estimators=10, total=   0.2s\n",
      "[CV] bootstrap=False, max_features=3, n_estimators=10 ................\n",
      "[CV] . bootstrap=False, max_features=3, n_estimators=10, total=   0.2s\n",
      "[CV] bootstrap=False, max_features=3, n_estimators=10 ................\n",
      "[CV] . bootstrap=False, max_features=3, n_estimators=10, total=   0.2s\n",
      "[CV] bootstrap=False, max_features=3, n_estimators=10 ................\n",
      "[CV] . bootstrap=False, max_features=3, n_estimators=10, total=   0.2s\n",
      "[CV] bootstrap=False, max_features=4, n_estimators=3 .................\n",
      "[CV] .. bootstrap=False, max_features=4, n_estimators=3, total=   0.1s\n",
      "[CV] bootstrap=False, max_features=4, n_estimators=3 .................\n",
      "[CV] .. bootstrap=False, max_features=4, n_estimators=3, total=   0.1s\n",
      "[CV] bootstrap=False, max_features=4, n_estimators=3 .................\n",
      "[CV] .. bootstrap=False, max_features=4, n_estimators=3, total=   0.1s\n",
      "[CV] bootstrap=False, max_features=4, n_estimators=3 .................\n",
      "[CV] .. bootstrap=False, max_features=4, n_estimators=3, total=   0.1s\n",
      "[CV] bootstrap=False, max_features=4, n_estimators=3 .................\n",
      "[CV] .. bootstrap=False, max_features=4, n_estimators=3, total=   0.1s\n",
      "[CV] bootstrap=False, max_features=4, n_estimators=10 ................\n",
      "[CV] . bootstrap=False, max_features=4, n_estimators=10, total=   0.2s\n",
      "[CV] bootstrap=False, max_features=4, n_estimators=10 ................\n",
      "[CV] . bootstrap=False, max_features=4, n_estimators=10, total=   0.2s\n",
      "[CV] bootstrap=False, max_features=4, n_estimators=10 ................\n",
      "[CV] . bootstrap=False, max_features=4, n_estimators=10, total=   0.2s\n",
      "[CV] bootstrap=False, max_features=4, n_estimators=10 ................\n",
      "[CV] . bootstrap=False, max_features=4, n_estimators=10, total=   0.2s\n",
      "[CV] bootstrap=False, max_features=4, n_estimators=10 ................\n",
      "[CV] . bootstrap=False, max_features=4, n_estimators=10, total=   0.2s\n"
     ]
    },
    {
     "name": "stderr",
     "output_type": "stream",
     "text": [
      "[Parallel(n_jobs=1)]: Done  90 out of  90 | elapsed:    8.6s finished\n"
     ]
    },
    {
     "data": {
      "text/plain": [
       "GridSearchCV(cv=5, error_score='raise-deprecating',\n",
       "             estimator=RandomForestRegressor(bootstrap=True, criterion='mse',\n",
       "                                             max_depth=None,\n",
       "                                             max_features='auto',\n",
       "                                             max_leaf_nodes=None,\n",
       "                                             min_impurity_decrease=0.0,\n",
       "                                             min_impurity_split=None,\n",
       "                                             min_samples_leaf=1,\n",
       "                                             min_samples_split=2,\n",
       "                                             min_weight_fraction_leaf=0.0,\n",
       "                                             n_estimators='warn', n_jobs=None,\n",
       "                                             oob_score=False, random_state=42,\n",
       "                                             verbose=0, warm_start=False),\n",
       "             iid='warn', n_jobs=None,\n",
       "             param_grid=[{'max_features': [2, 4, 6, 8],\n",
       "                          'n_estimators': [3, 10, 3]},\n",
       "                         {'bootstrap': [False], 'max_features': [2, 3, 4],\n",
       "                          'n_estimators': [3, 10]}],\n",
       "             pre_dispatch='2*n_jobs', refit=True, return_train_score=True,\n",
       "             scoring='neg_mean_squared_error', verbose=2)"
      ]
     },
     "execution_count": 53,
     "metadata": {},
     "output_type": "execute_result"
    }
   ],
   "source": [
    "from sklearn.ensemble import RandomForestRegressor\n",
    "forest_reg = RandomForestRegressor(n_estimators=100, random_state=42)\n",
    "forest_reg.fit(x_train_prepared, y_train)\n",
    "forest_reg = RandomForestRegressor(random_state=42)\n",
    "# train across 5 folds, that's a total of (12+6)*5=90 rounds of training \n",
    "random_forest_reg = GridSearchCV(forest_reg, param_grid, cv=5,\n",
    "                           scoring='neg_mean_squared_error',\n",
    "                           return_train_score=True,\n",
    "                          verbose=2)\n",
    "random_forest_reg.fit(x_train_prepared, y_train)\n",
    "\n"
   ]
  },
  {
   "cell_type": "code",
   "execution_count": 54,
   "metadata": {},
   "outputs": [
    {
     "data": {
      "text/plain": [
       "RandomForestRegressor(bootstrap=False, criterion='mse', max_depth=None,\n",
       "                      max_features=3, max_leaf_nodes=None,\n",
       "                      min_impurity_decrease=0.0, min_impurity_split=None,\n",
       "                      min_samples_leaf=1, min_samples_split=2,\n",
       "                      min_weight_fraction_leaf=0.0, n_estimators=10,\n",
       "                      n_jobs=None, oob_score=False, random_state=42, verbose=0,\n",
       "                      warm_start=False)"
      ]
     },
     "execution_count": 54,
     "metadata": {},
     "output_type": "execute_result"
    }
   ],
   "source": [
    "#show the best estimator\n",
    "random_forest_reg.best_estimator_"
   ]
  },
  {
   "cell_type": "code",
   "execution_count": 55,
   "metadata": {
    "scrolled": true
   },
   "outputs": [
    {
     "name": "stdout",
     "output_type": "stream",
     "text": [
      "Predictions:  [2138900.  193560.  162560.  199282.  209370.]\n",
      "actual: [1949000, 169000, 174900, 290000, 189900]\n"
     ]
    }
   ],
   "source": [
    "rndfst_reg = random_forest_reg.best_estimator_\n",
    "compare_scores(rndfst_reg, some_data, some_labels)"
   ]
  },
  {
   "cell_type": "code",
   "execution_count": 56,
   "metadata": {
    "scrolled": true
   },
   "outputs": [
    {
     "name": "stdout",
     "output_type": "stream",
     "text": [
      "305160.66596877656 {'max_features': 2, 'n_estimators': 3}\n",
      "265219.83954464644 {'max_features': 2, 'n_estimators': 10}\n",
      "305160.66596877656 {'max_features': 2, 'n_estimators': 3}\n",
      "301577.84223523823 {'max_features': 4, 'n_estimators': 3}\n",
      "266429.3565012142 {'max_features': 4, 'n_estimators': 10}\n",
      "301577.84223523823 {'max_features': 4, 'n_estimators': 3}\n",
      "303644.5953748743 {'max_features': 6, 'n_estimators': 3}\n",
      "267522.60024235386 {'max_features': 6, 'n_estimators': 10}\n",
      "303644.5953748743 {'max_features': 6, 'n_estimators': 3}\n",
      "293585.4264385883 {'max_features': 8, 'n_estimators': 3}\n",
      "260544.16789215084 {'max_features': 8, 'n_estimators': 10}\n",
      "293585.4264385883 {'max_features': 8, 'n_estimators': 3}\n",
      "292159.46417446586 {'bootstrap': False, 'max_features': 2, 'n_estimators': 3}\n",
      "254337.61254230377 {'bootstrap': False, 'max_features': 2, 'n_estimators': 10}\n",
      "293323.6130381519 {'bootstrap': False, 'max_features': 3, 'n_estimators': 3}\n",
      "253199.8175315863 {'bootstrap': False, 'max_features': 3, 'n_estimators': 10}\n",
      "286345.00687500404 {'bootstrap': False, 'max_features': 4, 'n_estimators': 3}\n",
      "255340.02366652692 {'bootstrap': False, 'max_features': 4, 'n_estimators': 10}\n"
     ]
    }
   ],
   "source": [
    "#look at the results of the grid search \n",
    "cv_results = random_forest_reg.cv_results_\n",
    "for mean_score, params in zip(cv_results['mean_test_score'], cv_results['params']):\n",
    "    print(np.sqrt(-mean_score), params)"
   ]
  },
  {
   "cell_type": "code",
   "execution_count": 57,
   "metadata": {},
   "outputs": [
    {
     "data": {
      "text/plain": [
       "RandomForestRegressor(bootstrap=False, criterion='mse', max_depth=None,\n",
       "                      max_features=3, max_leaf_nodes=None,\n",
       "                      min_impurity_decrease=0.0, min_impurity_split=None,\n",
       "                      min_samples_leaf=1, min_samples_split=2,\n",
       "                      min_weight_fraction_leaf=0.0, n_estimators=10,\n",
       "                      n_jobs=None, oob_score=False, random_state=42, verbose=0,\n",
       "                      warm_start=False)"
      ]
     },
     "execution_count": 57,
     "metadata": {},
     "output_type": "execute_result"
    }
   ],
   "source": [
    "feature_importances = random_forest_reg.best_estimator_.feature_importances_\n",
    "grid_forest_model = random_forest_reg.best_estimator_\n",
    "grid_forest_model"
   ]
  },
  {
   "cell_type": "code",
   "execution_count": 58,
   "metadata": {},
   "outputs": [
    {
     "name": "stdout",
     "output_type": "stream",
     "text": [
      "Fitting 5 folds for each of 10 candidates, totalling 50 fits\n",
      "[CV] max_features=7, n_estimators=180 ................................\n"
     ]
    },
    {
     "name": "stderr",
     "output_type": "stream",
     "text": [
      "[Parallel(n_jobs=1)]: Using backend SequentialBackend with 1 concurrent workers.\n"
     ]
    },
    {
     "name": "stdout",
     "output_type": "stream",
     "text": [
      "[CV] ................. max_features=7, n_estimators=180, total=   2.1s\n",
      "[CV] max_features=7, n_estimators=180 ................................\n"
     ]
    },
    {
     "name": "stderr",
     "output_type": "stream",
     "text": [
      "[Parallel(n_jobs=1)]: Done   1 out of   1 | elapsed:    2.1s remaining:    0.0s\n"
     ]
    },
    {
     "name": "stdout",
     "output_type": "stream",
     "text": [
      "[CV] ................. max_features=7, n_estimators=180, total=   2.0s\n",
      "[CV] max_features=7, n_estimators=180 ................................\n",
      "[CV] ................. max_features=7, n_estimators=180, total=   2.2s\n",
      "[CV] max_features=7, n_estimators=180 ................................\n",
      "[CV] ................. max_features=7, n_estimators=180, total=   2.2s\n",
      "[CV] max_features=7, n_estimators=180 ................................\n",
      "[CV] ................. max_features=7, n_estimators=180, total=   2.1s\n",
      "[CV] max_features=5, n_estimators=15 .................................\n",
      "[CV] .................. max_features=5, n_estimators=15, total=   0.2s\n",
      "[CV] max_features=5, n_estimators=15 .................................\n",
      "[CV] .................. max_features=5, n_estimators=15, total=   0.2s\n",
      "[CV] max_features=5, n_estimators=15 .................................\n",
      "[CV] .................. max_features=5, n_estimators=15, total=   0.2s\n",
      "[CV] max_features=5, n_estimators=15 .................................\n",
      "[CV] .................. max_features=5, n_estimators=15, total=   0.2s\n",
      "[CV] max_features=5, n_estimators=15 .................................\n",
      "[CV] .................. max_features=5, n_estimators=15, total=   0.2s\n",
      "[CV] max_features=3, n_estimators=72 .................................\n",
      "[CV] .................. max_features=3, n_estimators=72, total=   0.8s\n",
      "[CV] max_features=3, n_estimators=72 .................................\n",
      "[CV] .................. max_features=3, n_estimators=72, total=   0.8s\n",
      "[CV] max_features=3, n_estimators=72 .................................\n",
      "[CV] .................. max_features=3, n_estimators=72, total=   0.8s\n",
      "[CV] max_features=3, n_estimators=72 .................................\n",
      "[CV] .................. max_features=3, n_estimators=72, total=   0.8s\n",
      "[CV] max_features=3, n_estimators=72 .................................\n",
      "[CV] .................. max_features=3, n_estimators=72, total=   0.8s\n",
      "[CV] max_features=5, n_estimators=21 .................................\n",
      "[CV] .................. max_features=5, n_estimators=21, total=   0.2s\n",
      "[CV] max_features=5, n_estimators=21 .................................\n",
      "[CV] .................. max_features=5, n_estimators=21, total=   0.2s\n",
      "[CV] max_features=5, n_estimators=21 .................................\n",
      "[CV] .................. max_features=5, n_estimators=21, total=   0.2s\n",
      "[CV] max_features=5, n_estimators=21 .................................\n",
      "[CV] .................. max_features=5, n_estimators=21, total=   0.3s\n",
      "[CV] max_features=5, n_estimators=21 .................................\n",
      "[CV] .................. max_features=5, n_estimators=21, total=   0.2s\n",
      "[CV] max_features=7, n_estimators=122 ................................\n",
      "[CV] ................. max_features=7, n_estimators=122, total=   1.4s\n",
      "[CV] max_features=7, n_estimators=122 ................................\n",
      "[CV] ................. max_features=7, n_estimators=122, total=   1.4s\n",
      "[CV] max_features=7, n_estimators=122 ................................\n",
      "[CV] ................. max_features=7, n_estimators=122, total=   1.4s\n",
      "[CV] max_features=7, n_estimators=122 ................................\n",
      "[CV] ................. max_features=7, n_estimators=122, total=   1.4s\n",
      "[CV] max_features=7, n_estimators=122 ................................\n",
      "[CV] ................. max_features=7, n_estimators=122, total=   1.4s\n",
      "[CV] max_features=3, n_estimators=75 .................................\n",
      "[CV] .................. max_features=3, n_estimators=75, total=   0.8s\n",
      "[CV] max_features=3, n_estimators=75 .................................\n",
      "[CV] .................. max_features=3, n_estimators=75, total=   0.8s\n",
      "[CV] max_features=3, n_estimators=75 .................................\n",
      "[CV] .................. max_features=3, n_estimators=75, total=   0.8s\n",
      "[CV] max_features=3, n_estimators=75 .................................\n",
      "[CV] .................. max_features=3, n_estimators=75, total=   0.8s\n",
      "[CV] max_features=3, n_estimators=75 .................................\n",
      "[CV] .................. max_features=3, n_estimators=75, total=   0.8s\n",
      "[CV] max_features=3, n_estimators=88 .................................\n",
      "[CV] .................. max_features=3, n_estimators=88, total=   0.9s\n",
      "[CV] max_features=3, n_estimators=88 .................................\n",
      "[CV] .................. max_features=3, n_estimators=88, total=   0.9s\n",
      "[CV] max_features=3, n_estimators=88 .................................\n",
      "[CV] .................. max_features=3, n_estimators=88, total=   0.9s\n",
      "[CV] max_features=3, n_estimators=88 .................................\n",
      "[CV] .................. max_features=3, n_estimators=88, total=   0.9s\n",
      "[CV] max_features=3, n_estimators=88 .................................\n",
      "[CV] .................. max_features=3, n_estimators=88, total=   0.9s\n",
      "[CV] max_features=5, n_estimators=100 ................................\n",
      "[CV] ................. max_features=5, n_estimators=100, total=   1.1s\n",
      "[CV] max_features=5, n_estimators=100 ................................\n",
      "[CV] ................. max_features=5, n_estimators=100, total=   1.1s\n",
      "[CV] max_features=5, n_estimators=100 ................................\n",
      "[CV] ................. max_features=5, n_estimators=100, total=   1.1s\n",
      "[CV] max_features=5, n_estimators=100 ................................\n",
      "[CV] ................. max_features=5, n_estimators=100, total=   1.1s\n",
      "[CV] max_features=5, n_estimators=100 ................................\n",
      "[CV] ................. max_features=5, n_estimators=100, total=   1.1s\n",
      "[CV] max_features=3, n_estimators=150 ................................\n",
      "[CV] ................. max_features=3, n_estimators=150, total=   1.6s\n",
      "[CV] max_features=3, n_estimators=150 ................................\n",
      "[CV] ................. max_features=3, n_estimators=150, total=   1.6s\n",
      "[CV] max_features=3, n_estimators=150 ................................\n",
      "[CV] ................. max_features=3, n_estimators=150, total=   1.6s\n",
      "[CV] max_features=3, n_estimators=150 ................................\n",
      "[CV] ................. max_features=3, n_estimators=150, total=   1.6s\n",
      "[CV] max_features=3, n_estimators=150 ................................\n",
      "[CV] ................. max_features=3, n_estimators=150, total=   1.7s\n",
      "[CV] max_features=5, n_estimators=2 ..................................\n",
      "[CV] ................... max_features=5, n_estimators=2, total=   0.0s\n",
      "[CV] max_features=5, n_estimators=2 ..................................\n",
      "[CV] ................... max_features=5, n_estimators=2, total=   0.0s\n",
      "[CV] max_features=5, n_estimators=2 ..................................\n",
      "[CV] ................... max_features=5, n_estimators=2, total=   0.0s\n",
      "[CV] max_features=5, n_estimators=2 ..................................\n",
      "[CV] ................... max_features=5, n_estimators=2, total=   0.0s\n",
      "[CV] max_features=5, n_estimators=2 ..................................\n",
      "[CV] ................... max_features=5, n_estimators=2, total=   0.0s\n"
     ]
    },
    {
     "name": "stderr",
     "output_type": "stream",
     "text": [
      "[Parallel(n_jobs=1)]: Done  50 out of  50 | elapsed:   46.2s finished\n"
     ]
    },
    {
     "data": {
      "text/plain": [
       "RandomizedSearchCV(cv=5, error_score='raise-deprecating',\n",
       "                   estimator=RandomForestRegressor(bootstrap=True,\n",
       "                                                   criterion='mse',\n",
       "                                                   max_depth=None,\n",
       "                                                   max_features='auto',\n",
       "                                                   max_leaf_nodes=None,\n",
       "                                                   min_impurity_decrease=0.0,\n",
       "                                                   min_impurity_split=None,\n",
       "                                                   min_samples_leaf=1,\n",
       "                                                   min_samples_split=2,\n",
       "                                                   min_weight_fraction_leaf=0.0,\n",
       "                                                   n_estimators='warn',\n",
       "                                                   n_jobs=None, oob_score=False,\n",
       "                                                   random_sta...\n",
       "                                                   warm_start=False),\n",
       "                   iid='warn', n_iter=10, n_jobs=None,\n",
       "                   param_distributions={'max_features': <scipy.stats._distn_infrastructure.rv_frozen object at 0x7f41d4659080>,\n",
       "                                        'n_estimators': <scipy.stats._distn_infrastructure.rv_frozen object at 0x7f41d4659b38>},\n",
       "                   pre_dispatch='2*n_jobs', random_state=42, refit=True,\n",
       "                   return_train_score=False, scoring='neg_mean_squared_error',\n",
       "                   verbose=2)"
      ]
     },
     "execution_count": 58,
     "metadata": {},
     "output_type": "execute_result"
    }
   ],
   "source": [
    "#when looking for more combinations try randomcvsearch\n",
    "from sklearn.model_selection import RandomizedSearchCV\n",
    "from scipy.stats import randint\n",
    "\n",
    "param_distribs = {\n",
    "        'n_estimators': randint(low=1, high=200),\n",
    "        'max_features': randint(low=1, high=8),\n",
    "    }\n",
    "\n",
    "forest_regression = RandomForestRegressor(random_state=42)\n",
    "\n",
    "random_search = RandomizedSearchCV(forest_regression, param_distributions=param_distribs,\n",
    "                                  n_iter=10, cv=5, scoring='neg_mean_squared_error', random_state=42, verbose=2)\n",
    "random_search.fit(x_train_prepared, y_train)"
   ]
  },
  {
   "cell_type": "code",
   "execution_count": 59,
   "metadata": {
    "scrolled": true
   },
   "outputs": [
    {
     "data": {
      "text/plain": [
       "[(0.18892176022625848, 'BATHS'),\n",
       " (0.12837117581806282, 'LATITUDE'),\n",
       " (0.12042556327987673, 'SQUARE FEET'),\n",
       " (0.09652576116719587, 'LONGITUDE'),\n",
       " (0.056897839698454515, 'YEAR BUILT'),\n",
       " (0.05377831267054237, 'LOT SIZE'),\n",
       " (0.0516270082484098, 'BEDS'),\n",
       " (0.04708459251903614, 'DAYS ON MARKET'),\n",
       " (0.010405345312596589, 'Single Family Residential'),\n",
       " (0.004002581312023774, 'Condo/Co-op'),\n",
       " (0.0014087534028663603, 'Multi-Family (2-4 Unit)')]"
      ]
     },
     "execution_count": 59,
     "metadata": {},
     "output_type": "execute_result"
    }
   ],
   "source": [
    "# displaying the importance scores next to their columns\n",
    "category_encoder = full_pipeline.named_transformers_[\"categorical_attributes\"][\"one_hot\"]\n",
    "\n",
    "cat_one_hot_attributes = list(category_encoder.categories_[0])\n",
    "\n",
    "attributes = numerical_attributes + cat_one_hot_attributes\n",
    "sorted(zip(feature_importances, attributes), reverse=True)"
   ]
  },
  {
   "cell_type": "code",
   "execution_count": 60,
   "metadata": {
    "scrolled": true
   },
   "outputs": [
    {
     "name": "stdout",
     "output_type": "stream",
     "text": [
      "Predictions:  [1957773.88888889  209429.72222222  184056.38888889  212894.98333333\n",
      "  209804.12222222]\n",
      "actual: [1949000, 169000, 174900, 290000, 189900]\n"
     ]
    }
   ],
   "source": [
    "#I should probably remove the $/square feet, as there probably is fairly high correlation between the two\n",
    "#also latitude seems like an odd predictor of price, as all data is within the town..\n",
    "# category_encoder.categories_\n",
    "random_forest_best = random_search.best_estimator_\n",
    "\n",
    "compare_scores(random_forest_best, some_data, some_labels)"
   ]
  },
  {
   "cell_type": "code",
   "execution_count": 61,
   "metadata": {},
   "outputs": [],
   "source": [
    "pickle.dump(random_forest_best, open('random_forest.sav', 'wb'))"
   ]
  },
  {
   "cell_type": "code",
   "execution_count": 62,
   "metadata": {},
   "outputs": [
    {
     "data": {
      "text/plain": [
       "265702.10107087455"
      ]
     },
     "execution_count": 62,
     "metadata": {},
     "output_type": "execute_result"
    }
   ],
   "source": [
    "final_predictions = random_forest_reg.predict(x_test_prepared)\n",
    "#dataset still not large enough!\n",
    "final_mse = mean_squared_error(y_test, final_predictions)\n",
    "final_rmse = np.sqrt(final_mse)\n",
    "final_rmse #lower, but still about the same"
   ]
  },
  {
   "cell_type": "code",
   "execution_count": 63,
   "metadata": {},
   "outputs": [
    {
     "data": {
      "text/plain": [
       "array([239245.35098529, 289753.12778101])"
      ]
     },
     "execution_count": 63,
     "metadata": {},
     "output_type": "execute_result"
    }
   ],
   "source": [
    "from scipy import stats\n",
    "confidence = 0.95\n",
    "squared_errors = (final_predictions - y_test) ** 2\n",
    "np.sqrt(stats.t.interval(confidence, len(squared_errors) - 1,\n",
    "                        loc=squared_errors.mean(),\n",
    "                        scale=stats.sem(squared_errors))) #still poor"
   ]
  },
  {
   "cell_type": "markdown",
   "metadata": {},
   "source": [
    "# Neural Networks - Dense"
   ]
  },
  {
   "cell_type": "code",
   "execution_count": 64,
   "metadata": {},
   "outputs": [],
   "source": [
    "#putting the data into a neural network\n",
    "try:\n",
    "    # %tensorflow_version only exists in Colab.\n",
    "    %tensorflow_version 2.x\n",
    "except Exception:\n",
    "    pass\n",
    "# TensorFlow ≥2.0 is required\n",
    "import tensorflow as tf\n",
    "from tensorflow import keras\n",
    "assert tf.__version__ >= \"2.0\""
   ]
  },
  {
   "cell_type": "code",
   "execution_count": 65,
   "metadata": {},
   "outputs": [],
   "source": [
    "try:\n",
    "    saved_model = keras.models.load_model('simple_nn.hdf5')\n",
    "except:\n",
    "    pass"
   ]
  },
  {
   "cell_type": "code",
   "execution_count": 66,
   "metadata": {},
   "outputs": [],
   "source": [
    "#should correct the issue...\n",
    "y_train = (y_train.astype(np.float32))\n",
    "y_test = (y_test.astype(np.float32))\n",
    "y_valid = (y_valid.astype(np.float32))\n"
   ]
  },
  {
   "cell_type": "markdown",
   "metadata": {},
   "source": [
    "ValueError: Error when checking input: expected dense_93_input to have shape (16,) but got array with shape (15,)"
   ]
  },
  {
   "cell_type": "code",
   "execution_count": 67,
   "metadata": {},
   "outputs": [
    {
     "data": {
      "text/plain": [
       "(2781, 197)"
      ]
     },
     "execution_count": 67,
     "metadata": {},
     "output_type": "execute_result"
    }
   ],
   "source": [
    "#okay the valid shape is 15 for some reason\n",
    "x_valid_prepared.shape"
   ]
  },
  {
   "cell_type": "code",
   "execution_count": 68,
   "metadata": {},
   "outputs": [],
   "source": [
    "tf.random.set_seed(42)\n",
    "np.random.seed(42)\n",
    "len(data.columns)\n",
    "\n",
    "input_shape = x_train_prepared.shape[1:]\n",
    "input_red = x_train_rd.shape[1:]\n",
    "#simple nn\n",
    "model = keras.models.Sequential([\n",
    "    keras.layers.Dense(200, activation=\"relu\", kernel_initializer=\"lecun_normal\",\n",
    "                       input_shape=input_red),\n",
    "    keras.layers.Dropout(rate=.3),\n",
    "    keras.layers.Dense(200, activation=\"relu\", kernel_initializer=\"lecun_normal\"),\n",
    "    keras.layers.Dropout(rate=.3),\n",
    "    keras.layers.Dense(1, kernel_initializer='lecun_normal', activation='relu'),\n",
    "])"
   ]
  },
  {
   "cell_type": "code",
   "execution_count": 69,
   "metadata": {},
   "outputs": [],
   "source": [
    "model.compile(loss=\"mse\", optimizer=keras.optimizers.Adamax(), metrics=[\"mean_absolute_error\"])"
   ]
  },
  {
   "cell_type": "code",
   "execution_count": 70,
   "metadata": {
    "scrolled": true
   },
   "outputs": [
    {
     "name": "stdout",
     "output_type": "stream",
     "text": [
      "Train on 8342 samples, validate on 2781 samples\n",
      "Epoch 1/100\n",
      "8342/8342 [==============================] - 1s 96us/sample - loss: 542291718421.9113 - mean_absolute_error: 531654.4375 - val_loss: 506649420857.0730 - val_mean_absolute_error: 520768.3125\n",
      "Epoch 2/100\n",
      "8342/8342 [==============================] - 0s 46us/sample - loss: 541831211263.8159 - mean_absolute_error: 531322.8750 - val_loss: 505861639748.6717 - val_mean_absolute_error: 520177.6250\n",
      "Epoch 3/100\n",
      "8342/8342 [==============================] - 0s 45us/sample - loss: 540414047585.7722 - mean_absolute_error: 530355.1250 - val_loss: 503902218969.7979 - val_mean_absolute_error: 518751.9062\n",
      "Epoch 4/100\n",
      "8342/8342 [==============================] - 0s 45us/sample - loss: 537550720816.7941 - mean_absolute_error: 528433.1875 - val_loss: 500357094696.4114 - val_mean_absolute_error: 516200.6250\n",
      "Epoch 5/100\n",
      "8342/8342 [==============================] - 0s 45us/sample - loss: 532539106024.3702 - mean_absolute_error: 525127.6250 - val_loss: 494564755687.9741 - val_mean_absolute_error: 512087.9688\n",
      "Epoch 6/100\n",
      "8342/8342 [==============================] - 0s 49us/sample - loss: 525238500912.4871 - mean_absolute_error: 520366.9375 - val_loss: 486685484595.7338 - val_mean_absolute_error: 506499.0938\n",
      "Epoch 7/100\n",
      "8342/8342 [==============================] - 0s 48us/sample - loss: 515716204355.9434 - mean_absolute_error: 514144.0625 - val_loss: 476407432122.4078 - val_mean_absolute_error: 499215.1562\n",
      "Epoch 8/100\n",
      "8342/8342 [==============================] - 0s 50us/sample - loss: 502971774612.1620 - mean_absolute_error: 505714.0938 - val_loss: 462858742967.0018 - val_mean_absolute_error: 489440.4688\n",
      "Epoch 9/100\n",
      "8342/8342 [==============================] - 0s 50us/sample - loss: 487057910066.8809 - mean_absolute_error: 495072.3438 - val_loss: 446459579147.8749 - val_mean_absolute_error: 477454.7812\n",
      "Epoch 10/100\n",
      "8342/8342 [==============================] - 0s 50us/sample - loss: 467255663683.5138 - mean_absolute_error: 481644.0938 - val_loss: 426509802444.8184 - val_mean_absolute_error: 462508.5000\n",
      "Epoch 11/100\n",
      "8342/8342 [==============================] - 0s 57us/sample - loss: 443999885900.7202 - mean_absolute_error: 465531.1875 - val_loss: 402964269075.8835 - val_mean_absolute_error: 444270.5000\n",
      "Epoch 12/100\n",
      "8342/8342 [==============================] - 1s 74us/sample - loss: 416872756821.3129 - mean_absolute_error: 445833.1562 - val_loss: 376921740923.9036 - val_mean_absolute_error: 423223.1875\n",
      "Epoch 13/100\n",
      "8342/8342 [==============================] - 1s 81us/sample - loss: 387245500227.9434 - mean_absolute_error: 423762.3125 - val_loss: 348768432724.5049 - val_mean_absolute_error: 399298.9688\n",
      "Epoch 14/100\n",
      "8342/8342 [==============================] - 1s 86us/sample - loss: 355738958006.1644 - mean_absolute_error: 398616.5938 - val_loss: 319115740897.5304 - val_mean_absolute_error: 372657.9688\n",
      "Epoch 15/100\n",
      "8342/8342 [==============================] - 0s 57us/sample - loss: 323669981346.5241 - mean_absolute_error: 371936.4375 - val_loss: 290130668296.9291 - val_mean_absolute_error: 344887.0312\n",
      "Epoch 16/100\n",
      "8342/8342 [==============================] - 0s 51us/sample - loss: 289930624370.9576 - mean_absolute_error: 341506.2500 - val_loss: 258382897803.0004 - val_mean_absolute_error: 313426.5625\n",
      "Epoch 17/100\n",
      "8342/8342 [==============================] - 0s 48us/sample - loss: 255932710413.1345 - mean_absolute_error: 308733.0312 - val_loss: 228366793232.0173 - val_mean_absolute_error: 282602.0000\n",
      "Epoch 18/100\n",
      "8342/8342 [==============================] - 1s 62us/sample - loss: 224260870616.3510 - mean_absolute_error: 277195.6562 - val_loss: 202917539794.3416 - val_mean_absolute_error: 256111.1562\n",
      "Epoch 19/100\n",
      "8342/8342 [==============================] - 1s 87us/sample - loss: 196920007213.2956 - mean_absolute_error: 250603.0312 - val_loss: 182703997475.9008 - val_mean_absolute_error: 236336.9062\n",
      "Epoch 20/100\n",
      "8342/8342 [==============================] - 1s 80us/sample - loss: 176690758327.2693 - mean_absolute_error: 230365.6875 - val_loss: 165429060270.3488 - val_mean_absolute_error: 222374.5000\n",
      "Epoch 21/100\n",
      "8342/8342 [==============================] - 1s 72us/sample - loss: 154630065224.4239 - mean_absolute_error: 211227.4688 - val_loss: 151257195170.5660 - val_mean_absolute_error: 213633.1250\n",
      "Epoch 22/100\n",
      "8342/8342 [==============================] - 0s 58us/sample - loss: 139464825265.5612 - mean_absolute_error: 200843.6562 - val_loss: 140964157193.2974 - val_mean_absolute_error: 210469.6719\n",
      "Epoch 23/100\n",
      "8342/8342 [==============================] - 0s 54us/sample - loss: 129927754929.0089 - mean_absolute_error: 196750.0156 - val_loss: 135240537514.7587 - val_mean_absolute_error: 211615.5469\n",
      "Epoch 24/100\n",
      "8342/8342 [==============================] - 1s 60us/sample - loss: 123158600490.1654 - mean_absolute_error: 195222.8750 - val_loss: 132281521628.8357 - val_mean_absolute_error: 214443.0625\n",
      "Epoch 25/100\n",
      "8342/8342 [==============================] - 1s 80us/sample - loss: 118514412858.9825 - mean_absolute_error: 194840.2656 - val_loss: 130990453895.1341 - val_mean_absolute_error: 217955.4844\n",
      "Epoch 26/100\n",
      "8342/8342 [==============================] - 1s 90us/sample - loss: 116578646744.1669 - mean_absolute_error: 196763.2031 - val_loss: 130533765150.9299 - val_mean_absolute_error: 220972.4219\n",
      "Epoch 27/100\n",
      "8342/8342 [==============================] - 1s 97us/sample - loss: 112995028789.7041 - mean_absolute_error: 197288.9688 - val_loss: 130413130789.9259 - val_mean_absolute_error: 223327.1875\n",
      "Epoch 28/100\n",
      "8342/8342 [==============================] - 1s 92us/sample - loss: 113425185145.5862 - mean_absolute_error: 198252.0469 - val_loss: 130376029816.9579 - val_mean_absolute_error: 224891.3125\n",
      "Epoch 29/100\n",
      "8342/8342 [==============================] - 1s 93us/sample - loss: 112459612824.8267 - mean_absolute_error: 198106.0469 - val_loss: 130355312048.6501 - val_mean_absolute_error: 226205.5781\n",
      "Epoch 30/100\n",
      "8342/8342 [==============================] - 1s 98us/sample - loss: 111880951340.0681 - mean_absolute_error: 198941.4844 - val_loss: 130266077844.5739 - val_mean_absolute_error: 226959.5781\n",
      "Epoch 31/100\n",
      "8342/8342 [==============================] - 1s 94us/sample - loss: 109916997913.3484 - mean_absolute_error: 197580.1562 - val_loss: 130203387817.8382 - val_mean_absolute_error: 227580.5938\n",
      "Epoch 32/100\n",
      "8342/8342 [==============================] - 1s 103us/sample - loss: 109304595017.2831 - mean_absolute_error: 197273.5312 - val_loss: 130176036847.7986 - val_mean_absolute_error: 228294.2188\n",
      "Epoch 33/100\n",
      "8342/8342 [==============================] - 1s 96us/sample - loss: 109113620642.5241 - mean_absolute_error: 198077.4531 - val_loss: 130024322946.0712 - val_mean_absolute_error: 228574.4531\n",
      "Epoch 34/100\n",
      "8342/8342 [==============================] - 1s 101us/sample - loss: 107480208484.4114 - mean_absolute_error: 196830.6719 - val_loss: 129787282091.4031 - val_mean_absolute_error: 228302.8438\n",
      "Epoch 35/100\n",
      "8342/8342 [==============================] - 1s 83us/sample - loss: 106470023390.9182 - mean_absolute_error: 196428.6250 - val_loss: 129657780528.1438 - val_mean_absolute_error: 228526.7656\n",
      "Epoch 36/100\n",
      "8342/8342 [==============================] - 1s 92us/sample - loss: 107418760190.2815 - mean_absolute_error: 196627.8594 - val_loss: 129424785101.6469 - val_mean_absolute_error: 228390.1562\n",
      "Epoch 37/100\n",
      "8342/8342 [==============================] - 1s 100us/sample - loss: 105666371737.1949 - mean_absolute_error: 194817.7344 - val_loss: 129244556635.9612 - val_mean_absolute_error: 228403.5000\n",
      "Epoch 38/100\n",
      "8342/8342 [==============================] - 1s 101us/sample - loss: 105657028945.8144 - mean_absolute_error: 193835.6562 - val_loss: 129050070796.9795 - val_mean_absolute_error: 228250.4375\n",
      "Epoch 39/100\n",
      "8342/8342 [==============================] - 1s 99us/sample - loss: 104420826808.0058 - mean_absolute_error: 193430.9062 - val_loss: 128902609627.2708 - val_mean_absolute_error: 228319.4844\n",
      "Epoch 40/100\n",
      "8342/8342 [==============================] - 1s 100us/sample - loss: 104477251127.8523 - mean_absolute_error: 193390.3750 - val_loss: 128786078754.2438 - val_mean_absolute_error: 228382.4219\n",
      "Epoch 41/100\n"
     ]
    },
    {
     "name": "stdout",
     "output_type": "stream",
     "text": [
      "8342/8342 [==============================] - 1s 94us/sample - loss: 103833017662.9106 - mean_absolute_error: 192912.6094 - val_loss: 128525350193.9849 - val_mean_absolute_error: 228082.3594\n",
      "Epoch 42/100\n",
      "8342/8342 [==============================] - 1s 89us/sample - loss: 103399772559.6816 - mean_absolute_error: 191432.1094 - val_loss: 128313829236.8155 - val_mean_absolute_error: 227933.8281\n",
      "Epoch 43/100\n",
      "8342/8342 [==============================] - 1s 90us/sample - loss: 101777615221.6581 - mean_absolute_error: 190890.0156 - val_loss: 128190389017.1305 - val_mean_absolute_error: 228036.0000\n",
      "Epoch 44/100\n",
      "8342/8342 [==============================] - 1s 82us/sample - loss: 102025248532.3155 - mean_absolute_error: 191038.8438 - val_loss: 127984498488.4286 - val_mean_absolute_error: 227758.0469\n",
      "Epoch 45/100\n",
      "8342/8342 [==============================] - 1s 91us/sample - loss: 101054318448.8708 - mean_absolute_error: 190534.3906 - val_loss: 127780466919.2377 - val_mean_absolute_error: 227568.5781\n",
      "Epoch 46/100\n",
      "8342/8342 [==============================] - 1s 88us/sample - loss: 100990135520.6368 - mean_absolute_error: 190023.0312 - val_loss: 127621102808.8774 - val_mean_absolute_error: 227456.6406\n",
      "Epoch 47/100\n",
      "8342/8342 [==============================] - 1s 83us/sample - loss: 99795969877.1288 - mean_absolute_error: 187694.6562 - val_loss: 127469085641.1363 - val_mean_absolute_error: 227395.4531\n",
      "Epoch 48/100\n",
      "8342/8342 [==============================] - 1s 86us/sample - loss: 100382123912.6847 - mean_absolute_error: 189366.8750 - val_loss: 127285540537.7634 - val_mean_absolute_error: 227178.8281\n",
      "Epoch 49/100\n",
      "8342/8342 [==============================] - 1s 95us/sample - loss: 99962937243.8341 - mean_absolute_error: 188301.8281 - val_loss: 127159008620.1625 - val_mean_absolute_error: 227286.9375\n",
      "Epoch 50/100\n",
      "8342/8342 [==============================] - 1s 79us/sample - loss: 98693220535.6375 - mean_absolute_error: 187810.4844 - val_loss: 126932715802.0510 - val_mean_absolute_error: 226896.5625\n",
      "Epoch 51/100\n",
      "8342/8342 [==============================] - 1s 82us/sample - loss: 97970661775.1906 - mean_absolute_error: 187286.1875 - val_loss: 126791067832.8429 - val_mean_absolute_error: 226803.4062\n",
      "Epoch 52/100\n",
      "8342/8342 [==============================] - 1s 87us/sample - loss: 96784603897.5555 - mean_absolute_error: 185465.5625 - val_loss: 126689994483.2046 - val_mean_absolute_error: 226885.9844\n",
      "Epoch 53/100\n",
      "8342/8342 [==============================] - 1s 93us/sample - loss: 98702497614.7456 - mean_absolute_error: 187448.0938 - val_loss: 126358553827.9238 - val_mean_absolute_error: 226132.6719\n",
      "Epoch 54/100\n",
      "8342/8342 [==============================] - 1s 90us/sample - loss: 97581706653.1844 - mean_absolute_error: 185430.3281 - val_loss: 126203869944.7278 - val_mean_absolute_error: 226033.0625\n",
      "Epoch 55/100\n",
      "8342/8342 [==============================] - 1s 89us/sample - loss: 96445172359.6413 - mean_absolute_error: 184854.7812 - val_loss: 126074355016.8141 - val_mean_absolute_error: 225976.7500\n",
      "Epoch 56/100\n",
      "8342/8342 [==============================] - 1s 89us/sample - loss: 95964454953.2448 - mean_absolute_error: 184707.0312 - val_loss: 126060022634.1374 - val_mean_absolute_error: 226266.2812\n",
      "Epoch 57/100\n",
      "8342/8342 [==============================] - 1s 81us/sample - loss: 96104099046.5289 - mean_absolute_error: 185001.4531 - val_loss: 125859464313.8785 - val_mean_absolute_error: 225936.3438\n",
      "Epoch 58/100\n",
      "8342/8342 [==============================] - 1s 78us/sample - loss: 95690571927.7219 - mean_absolute_error: 184183.7031 - val_loss: 125747653570.5085 - val_mean_absolute_error: 225801.7188\n",
      "Epoch 59/100\n",
      "8342/8342 [==============================] - 1s 96us/sample - loss: 95691607678.0667 - mean_absolute_error: 184247.3594 - val_loss: 125616631105.4498 - val_mean_absolute_error: 225697.1094\n",
      "Epoch 60/100\n",
      "8342/8342 [==============================] - 1s 84us/sample - loss: 95470346554.7370 - mean_absolute_error: 184002.1562 - val_loss: 125508691696.2589 - val_mean_absolute_error: 225628.2656\n",
      "Epoch 61/100\n",
      "8342/8342 [==============================] - 1s 81us/sample - loss: 96065687953.6457 - mean_absolute_error: 183831.8438 - val_loss: 125332855550.6192 - val_mean_absolute_error: 225427.0156\n",
      "Epoch 62/100\n",
      "8342/8342 [==============================] - 1s 86us/sample - loss: 94722732393.8739 - mean_absolute_error: 183066.2031 - val_loss: 125261972104.0547 - val_mean_absolute_error: 225428.5469\n",
      "Epoch 63/100\n",
      "8342/8342 [==============================] - 1s 84us/sample - loss: 93560217342.2201 - mean_absolute_error: 182657.5938 - val_loss: 125156937920.9435 - val_mean_absolute_error: 225278.9688\n",
      "Epoch 64/100\n",
      "8342/8342 [==============================] - 1s 79us/sample - loss: 94302785925.8614 - mean_absolute_error: 182760.8906 - val_loss: 124937919922.8594 - val_mean_absolute_error: 224936.2344\n",
      "Epoch 65/100\n",
      "8342/8342 [==============================] - 1s 80us/sample - loss: 94094292197.0559 - mean_absolute_error: 181578.5312 - val_loss: 124913773488.8342 - val_mean_absolute_error: 225132.5781\n",
      "Epoch 66/100\n",
      "8342/8342 [==============================] - 1s 82us/sample - loss: 93255801847.8983 - mean_absolute_error: 182056.4062 - val_loss: 124739516513.9446 - val_mean_absolute_error: 224820.5781\n",
      "Epoch 67/100\n",
      "8342/8342 [==============================] - 1s 82us/sample - loss: 93886565587.8705 - mean_absolute_error: 182152.5156 - val_loss: 124581805814.8867 - val_mean_absolute_error: 224558.2812\n",
      "Epoch 68/100\n",
      "8342/8342 [==============================] - 1s 80us/sample - loss: 93677987555.7056 - mean_absolute_error: 181112.3594 - val_loss: 124494792935.9741 - val_mean_absolute_error: 224558.1875\n",
      "Epoch 69/100\n",
      "8342/8342 [==============================] - 1s 79us/sample - loss: 92341411127.0544 - mean_absolute_error: 180148.5625 - val_loss: 124364856928.6559 - val_mean_absolute_error: 224299.6562\n",
      "Epoch 70/100\n",
      "8342/8342 [==============================] - 1s 68us/sample - loss: 92443514337.9257 - mean_absolute_error: 180727.6406 - val_loss: 124153565241.4412 - val_mean_absolute_error: 223837.1094\n",
      "Epoch 71/100\n",
      "8342/8342 [==============================] - 1s 95us/sample - loss: 91941725617.3158 - mean_absolute_error: 180148.7656 - val_loss: 124120384686.9011 - val_mean_absolute_error: 223931.9062\n",
      "Epoch 72/100\n",
      "8342/8342 [==============================] - 1s 97us/sample - loss: 91925492040.9763 - mean_absolute_error: 179328.8906 - val_loss: 123935458741.0687 - val_mean_absolute_error: 223615.5469\n",
      "Epoch 73/100\n",
      "8342/8342 [==============================] - 1s 95us/sample - loss: 92623672424.3395 - mean_absolute_error: 179813.0625 - val_loss: 123940455787.4261 - val_mean_absolute_error: 223796.2188\n",
      "Epoch 74/100\n",
      "8342/8342 [==============================] - 1s 92us/sample - loss: 91150489603.4371 - mean_absolute_error: 179328.0625 - val_loss: 123778100613.2010 - val_mean_absolute_error: 223420.7500\n",
      "Epoch 75/100\n",
      "8342/8342 [==============================] - 1s 93us/sample - loss: 91491035783.6413 - mean_absolute_error: 180067.5781 - val_loss: 123691007422.6422 - val_mean_absolute_error: 223259.7969\n",
      "Epoch 76/100\n",
      "8342/8342 [==============================] - 1s 88us/sample - loss: 91947033041.4769 - mean_absolute_error: 179227.5156 - val_loss: 123523210268.3524 - val_mean_absolute_error: 222928.5938\n",
      "Epoch 77/100\n",
      "8342/8342 [==============================] - 1s 82us/sample - loss: 91668751340.6051 - mean_absolute_error: 179185.5781 - val_loss: 123363664425.7922 - val_mean_absolute_error: 222628.5469\n",
      "Epoch 78/100\n",
      "8342/8342 [==============================] - 1s 86us/sample - loss: 91563117148.6780 - mean_absolute_error: 179241.0469 - val_loss: 123223706795.2190 - val_mean_absolute_error: 222334.5938\n",
      "Epoch 79/100\n",
      "8342/8342 [==============================] - 1s 95us/sample - loss: 91646906897.3081 - mean_absolute_error: 178522.1562 - val_loss: 123153017629.5491 - val_mean_absolute_error: 222265.1719\n",
      "Epoch 80/100\n",
      "8342/8342 [==============================] - 1s 102us/sample - loss: 91520668612.3424 - mean_absolute_error: 178573.7969 - val_loss: 122949040576.4833 - val_mean_absolute_error: 221805.5938\n",
      "Epoch 81/100\n"
     ]
    },
    {
     "name": "stdout",
     "output_type": "stream",
     "text": [
      "8342/8342 [==============================] - 1s 100us/sample - loss: 89909218213.4088 - mean_absolute_error: 177432.9219 - val_loss: 122888064115.2506 - val_mean_absolute_error: 221694.9375\n",
      "Epoch 82/100\n",
      "8342/8342 [==============================] - 1s 90us/sample - loss: 89818344080.4795 - mean_absolute_error: 177798.6250 - val_loss: 122922733269.0112 - val_mean_absolute_error: 221952.0156\n",
      "Epoch 83/100\n",
      "8342/8342 [==============================] - 1s 112us/sample - loss: 90724346628.3577 - mean_absolute_error: 178172.1406 - val_loss: 122798628348.5020 - val_mean_absolute_error: 221704.1250\n",
      "Epoch 84/100\n",
      "8342/8342 [==============================] - 1s 78us/sample - loss: 89079680750.9988 - mean_absolute_error: 177142.7812 - val_loss: 122748497126.1330 - val_mean_absolute_error: 221681.6875\n",
      "Epoch 85/100\n",
      "8342/8342 [==============================] - 1s 94us/sample - loss: 89773561647.3210 - mean_absolute_error: 177462.5938 - val_loss: 122603351726.7170 - val_mean_absolute_error: 221390.9844\n",
      "Epoch 86/100\n",
      "8342/8342 [==============================] - 1s 90us/sample - loss: 89978642664.7384 - mean_absolute_error: 176865.3438 - val_loss: 122459301843.0780 - val_mean_absolute_error: 221129.2344\n",
      "Epoch 87/100\n",
      "8342/8342 [==============================] - 1s 87us/sample - loss: 89785951785.1220 - mean_absolute_error: 177070.4062 - val_loss: 122399528194.8537 - val_mean_absolute_error: 221101.7344\n",
      "Epoch 88/100\n",
      "8342/8342 [==============================] - 1s 81us/sample - loss: 90317554606.7380 - mean_absolute_error: 178011.0312 - val_loss: 122309446149.7073 - val_mean_absolute_error: 220964.9375\n",
      "Epoch 89/100\n",
      "8342/8342 [==============================] - 1s 75us/sample - loss: 89294689180.0796 - mean_absolute_error: 176052.6094 - val_loss: 122258970450.9400 - val_mean_absolute_error: 220958.0781\n",
      "Epoch 90/100\n",
      "8342/8342 [==============================] - 1s 77us/sample - loss: 89531018277.5622 - mean_absolute_error: 176081.3281 - val_loss: 122287247629.5318 - val_mean_absolute_error: 221173.2344\n",
      "Epoch 91/100\n",
      "8342/8342 [==============================] - 1s 79us/sample - loss: 88237549158.0072 - mean_absolute_error: 175207.8281 - val_loss: 122188265664.2071 - val_mean_absolute_error: 220944.0000\n",
      "Epoch 92/100\n",
      "8342/8342 [==============================] - 1s 84us/sample - loss: 89244015373.1959 - mean_absolute_error: 176182.3594 - val_loss: 122112495208.0202 - val_mean_absolute_error: 220793.1406\n",
      "Epoch 93/100\n",
      "8342/8342 [==============================] - 1s 95us/sample - loss: 88421297054.5346 - mean_absolute_error: 175564.1406 - val_loss: 122024751182.0611 - val_mean_absolute_error: 220595.7969\n",
      "Epoch 94/100\n",
      "8342/8342 [==============================] - 1s 80us/sample - loss: 89191316211.6634 - mean_absolute_error: 175610.0781 - val_loss: 121941056295.8590 - val_mean_absolute_error: 220523.4219\n",
      "Epoch 95/100\n",
      "8342/8342 [==============================] - 1s 80us/sample - loss: 88559523957.3512 - mean_absolute_error: 175319.3906 - val_loss: 121848752306.9515 - val_mean_absolute_error: 220372.7812\n",
      "Epoch 96/100\n",
      "8342/8342 [==============================] - 1s 93us/sample - loss: 89207420240.0959 - mean_absolute_error: 175195.9531 - val_loss: 121831950417.7433 - val_mean_absolute_error: 220406.1250\n",
      "Epoch 97/100\n",
      "8342/8342 [==============================] - 1s 80us/sample - loss: 88433111763.7478 - mean_absolute_error: 175542.7344 - val_loss: 121835233424.3394 - val_mean_absolute_error: 220485.4844\n",
      "Epoch 98/100\n",
      "8342/8342 [==============================] - 1s 91us/sample - loss: 87958753824.5294 - mean_absolute_error: 174792.0625 - val_loss: 121667377108.5509 - val_mean_absolute_error: 220111.9688\n",
      "Epoch 99/100\n",
      "8342/8342 [==============================] - 1s 87us/sample - loss: 88817189944.2206 - mean_absolute_error: 174910.9062 - val_loss: 121639959592.1352 - val_mean_absolute_error: 220061.3906\n",
      "Epoch 100/100\n",
      "8342/8342 [==============================] - 1s 81us/sample - loss: 88048379258.3227 - mean_absolute_error: 174249.5156 - val_loss: 121482770079.2521 - val_mean_absolute_error: 219672.3438\n"
     ]
    }
   ],
   "source": [
    "history = model.fit(x_train_rd, y_train, epochs=100,\n",
    "             validation_data=(x_valid_rd, y_valid))"
   ]
  },
  {
   "cell_type": "code",
   "execution_count": 71,
   "metadata": {},
   "outputs": [
    {
     "name": "stdout",
     "output_type": "stream",
     "text": [
      "2781/2781 [==============================] - 0s 48us/sample - loss: 142283549602.1057 - mean_absolute_error: 237024.3125\n"
     ]
    },
    {
     "data": {
      "text/plain": [
       "[142283549602.1057, 237024.31]"
      ]
     },
     "execution_count": 71,
     "metadata": {},
     "output_type": "execute_result"
    }
   ],
   "source": [
    "model.evaluate(x_test_rd, y_test)"
   ]
  },
  {
   "cell_type": "code",
   "execution_count": 72,
   "metadata": {},
   "outputs": [
    {
     "name": "stdout",
     "output_type": "stream",
     "text": [
      "Predictions:  [[1782004.2 ]\n",
      " [ 320620.44]\n",
      " [  95259.33]\n",
      " [ 245829.83]\n",
      " [ 227260.67]]\n",
      "actual: [1949000, 169000, 174900, 290000, 189900]\n"
     ]
    }
   ],
   "source": [
    "compare_scores(model, some_data_rd, some_labels)"
   ]
  },
  {
   "cell_type": "code",
   "execution_count": 73,
   "metadata": {},
   "outputs": [
    {
     "name": "stdout",
     "output_type": "stream",
     "text": [
      "Predictions:  [[1782004.2 ]\n",
      " [ 320620.44]\n",
      " [  95259.33]\n",
      " [ 245829.83]\n",
      " [ 227260.67]]\n",
      "actual: [1949000, 169000, 174900, 290000, 189900]\n"
     ]
    }
   ],
   "source": [
    "some_data_rd = x_test_rd[:5]\n",
    "compare_scores(model, some_data_rd, some_labels)"
   ]
  },
  {
   "cell_type": "code",
   "execution_count": 74,
   "metadata": {},
   "outputs": [],
   "source": [
    "model.save('simple_nn.hdf5')"
   ]
  },
  {
   "cell_type": "markdown",
   "metadata": {},
   "source": [
    "# Trying more complex models"
   ]
  },
  {
   "cell_type": "code",
   "execution_count": 75,
   "metadata": {},
   "outputs": [
    {
     "data": {
      "text/plain": [
       "(55,)"
      ]
     },
     "execution_count": 75,
     "metadata": {},
     "output_type": "execute_result"
    }
   ],
   "source": [
    "input_shape = x_train_rd.shape[1:]\n",
    "input_shape"
   ]
  },
  {
   "cell_type": "code",
   "execution_count": 76,
   "metadata": {},
   "outputs": [],
   "source": [
    "from scipy.stats import reciprocal\n",
    "from sklearn.model_selection import RandomizedSearchCV"
   ]
  },
  {
   "cell_type": "code",
   "execution_count": 77,
   "metadata": {},
   "outputs": [],
   "source": [
    "bs_opt = keras.optimizers\n",
    "bs_act = keras.activations"
   ]
  },
  {
   "cell_type": "code",
   "execution_count": 80,
   "metadata": {},
   "outputs": [],
   "source": [
    "#could mess around with losses and metrics?\n",
    "\n",
    "\n",
    "parameters_distributions = {\n",
    "    \"n_hidden\": [0, 1, 2, 3, 4],\n",
    "    \"n_neurons\":np.arange(1, 200),\n",
    "    \"learning_rate\": reciprocal(1e-4, 9e-2),\n",
    "    'optimizer':[ # bs_opt.SGD(), bs_opt.RMSprop(), bs_opt.Adagrad(),\n",
    "#                 bs_opt.Nadam(), bs_opt.Ftrl(), bs_opt.Adadelta(),\n",
    "                bs_opt.Adam(), bs_opt.Adamax()],\n",
    "    'input_shape': input_shape, #streamline this\n",
    "    'activation': [ #bs_act.elu, bs_act.exponential, bs_act.hard_sigmoid,\n",
    "                  bs_act.linear, bs_act.relu, bs_act.selu, bs_act.sigmoid,\n",
    "                  bs_act.tanh],\n",
    "    'drop_out_rate': np.arange(0.0, 1.0, step=0.1),\n",
    "    'exit_layer_act': [bs_act.linear, bs_act.exponential, bs_act.relu, bs_act.softmax],\n",
    "    'loss_fn': ['mse', 'mae']\n",
    "}\n",
    "#should save a new model each time it is ran\n",
    "# checkpoint_save = datetime.now().strftime('%Y%m%d_%H%M%S') # to implement \n",
    "checkpoint = keras.callbacks.ModelCheckpoint('rndsh_nn.hdf5', monitor='loss', \n",
    "                                            save_best_only= True, mode='auto',\n",
    "                                            save_freq=1)\n",
    "early_stop = keras.callbacks.EarlyStopping(patience=10, monitor='loss')"
   ]
  },
  {
   "cell_type": "code",
   "execution_count": 81,
   "metadata": {},
   "outputs": [],
   "source": [
    "def build_model(n_hidden=1, n_neurons=30, learning_rate=3e-3, input_shape=None, \n",
    "                drop_out_rate=.5, optimizer=None, activation=None,\n",
    "               exit_layer_act='linear', loss_fn='mse'):\n",
    "    #should make a call parms for kernel_initializer\n",
    "\n",
    "    model = keras.models.Sequential()\n",
    "    #input layer\n",
    "    model.add(keras.layers.InputLayer(input_shape=input_shape))\n",
    "    #hidden layers\n",
    "    for layer in range(n_hidden):   \n",
    "        model.add(keras.layers.Dense(n_neurons, activation=activation, kernel_initializer='lecun_normal'))\n",
    "        model.add(keras.layers.Dropout(rate=drop_out_rate))\n",
    "    #output layer, maybe make different possible activations for output layer\n",
    "    model.add(keras.layers.Dense(1, activation=exit_layer_act))\n",
    "    #optimizer \n",
    "    optimizer = keras.optimizers.RMSprop()\n",
    "    #compile, #could use multiple losses too\n",
    "    model.compile(loss= loss_fn, optimizer=optimizer, metrics=['mean_squared_error', 'accuracy'], )\n",
    "    return model\n",
    "\n",
    "\n",
    "keras_regressor = keras.wrappers.scikit_learn.KerasRegressor(build_model)"
   ]
  },
  {
   "cell_type": "code",
   "execution_count": 82,
   "metadata": {},
   "outputs": [],
   "source": [
    "#n_iterations = number of parameter settings that are sampled\n",
    "#cv = cross folds of the data\n",
    "rand_search_cv = RandomizedSearchCV(keras_regressor, parameters_distributions, n_iter=10, \n",
    "                                   cv=3, verbose=2)"
   ]
  },
  {
   "cell_type": "code",
   "execution_count": 90,
   "metadata": {
    "scrolled": true
   },
   "outputs": [],
   "source": [
    "try: \n",
    "    #load model otherwise rebuild\n",
    "    best_nn_model_rand = keras.models.load_model('rndsh_nn.hdf5')\n",
    "except:\n",
    "    tf.random.set_seed(42)\n",
    "    np.random.seed(42)\n",
    "    rand_search_cv.fit(x_train_rd, y_train, epochs=100, \n",
    "                   validation_data=(x_valid_rd, y_valid), \n",
    "                   callbacks=[checkpoint, early_stop])"
   ]
  },
  {
   "cell_type": "code",
   "execution_count": 87,
   "metadata": {},
   "outputs": [],
   "source": [
    "# rand_search_cv.best_params_"
   ]
  },
  {
   "cell_type": "code",
   "execution_count": 89,
   "metadata": {},
   "outputs": [],
   "source": [
    "#still shitty\n",
    "# rand_search_cv.best_score_"
   ]
  },
  {
   "cell_type": "code",
   "execution_count": 91,
   "metadata": {},
   "outputs": [
    {
     "name": "stdout",
     "output_type": "stream",
     "text": [
      "2781/2781 [==============================] - 0s 59us/sample - loss: 210607.6290 - mean_squared_error: 172404523008.0000 - accuracy: 0.0000e+00\n"
     ]
    },
    {
     "data": {
      "text/plain": [
       "[210607.62896103022, 172404520000.0, 0.0]"
      ]
     },
     "execution_count": 91,
     "metadata": {},
     "output_type": "execute_result"
    }
   ],
   "source": [
    "#the model still sucks...\n",
    "# best_nn_model_rand = rand_search_cv.best_estimator_.model\n",
    "best_nn_model_rand.evaluate(x_test_rd, y_test)"
   ]
  },
  {
   "cell_type": "code",
   "execution_count": 92,
   "metadata": {},
   "outputs": [
    {
     "name": "stdout",
     "output_type": "stream",
     "text": [
      "Predictions:  [[1694295.  ]\n",
      " [ 190250.95]\n",
      " [ 160101.38]\n",
      " [ 182908.48]\n",
      " [ 204232.55]]\n",
      "actual: [1949000, 169000, 174900, 290000, 189900]\n"
     ]
    }
   ],
   "source": [
    "#much better with the dimension reduction\n",
    "compare_scores(best_nn_model_rand, some_data_rd, some_labels)"
   ]
  },
  {
   "cell_type": "markdown",
   "metadata": {},
   "source": [
    "best model still performs quite poorly, need to get more data"
   ]
  },
  {
   "cell_type": "code",
   "execution_count": 94,
   "metadata": {},
   "outputs": [],
   "source": [
    "# rand_search_cv.best_score_, rand_search_cv.best_estimator_.score"
   ]
  },
  {
   "cell_type": "code",
   "execution_count": 95,
   "metadata": {},
   "outputs": [
    {
     "name": "stdout",
     "output_type": "stream",
     "text": [
      "2781/2781 [==============================] - 0s 30us/sample - loss: 210607.6290 - mean_squared_error: 172404523008.0000 - accuracy: 0.0000e+00\n"
     ]
    },
    {
     "data": {
      "text/plain": [
       "[210607.62896103022, 172404520000.0, 0.0]"
      ]
     },
     "execution_count": 95,
     "metadata": {},
     "output_type": "execute_result"
    }
   ],
   "source": [
    "best_nn_model_rand.evaluate(x_test_rd, y_test)"
   ]
  },
  {
   "cell_type": "code",
   "execution_count": 109,
   "metadata": {},
   "outputs": [
    {
     "ename": "AttributeError",
     "evalue": "'Sequential' object has no attribute 'score'",
     "output_type": "error",
     "traceback": [
      "\u001b[0;31m---------------------------------------------------------------------------\u001b[0m",
      "\u001b[0;31mAttributeError\u001b[0m                            Traceback (most recent call last)",
      "\u001b[0;32m<ipython-input-109-407b3f4bcb35>\u001b[0m in \u001b[0;36m<module>\u001b[0;34m\u001b[0m\n\u001b[0;32m----> 1\u001b[0;31m \u001b[0mbest_nn_model_rand\u001b[0m\u001b[0;34m.\u001b[0m\u001b[0mscore\u001b[0m\u001b[0;34m(\u001b[0m\u001b[0mx_test_rd\u001b[0m\u001b[0;34m,\u001b[0m \u001b[0my_test\u001b[0m\u001b[0;34m)\u001b[0m\u001b[0;34m\u001b[0m\u001b[0;34m\u001b[0m\u001b[0m\n\u001b[0m",
      "\u001b[0;31mAttributeError\u001b[0m: 'Sequential' object has no attribute 'score'"
     ]
    }
   ],
   "source": []
  },
  {
   "cell_type": "markdown",
   "metadata": {},
   "source": [
    "##### next to try a wide and deep network"
   ]
  },
  {
   "cell_type": "markdown",
   "metadata": {},
   "source": [
    "# Ensemble learning - Voting Classifier"
   ]
  },
  {
   "cell_type": "code",
   "execution_count": 96,
   "metadata": {},
   "outputs": [],
   "source": [
    "trained_estimators = [random_forest_reg, decision_tree_reg, svm_regression, lin_reg_fitted, \n",
    "             best_nn_model_rand]\n"
   ]
  },
  {
   "cell_type": "code",
   "execution_count": 100,
   "metadata": {},
   "outputs": [],
   "source": [
    "#takes  a while to run\n",
    "from sklearn.preprocessing import PolynomialFeatures\n",
    "poly_features = PolynomialFeatures(degree=2, include_bias=False)\n",
    "x_poly = poly_features.fit_transform(x_train_prepared)\n",
    "poly_reg = lin_reg.fit(x_poly, y_train)"
   ]
  },
  {
   "cell_type": "code",
   "execution_count": 104,
   "metadata": {},
   "outputs": [
    {
     "name": "stdout",
     "output_type": "stream",
     "text": [
      "Predictions:  [2119912.75   290283.375  175157.375  211324.125  188514.125]\n",
      "actual: [1949000, 169000, 174900, 290000, 189900]\n"
     ]
    }
   ],
   "source": [
    "some_data_poly = poly_features.fit_transform(some_data)\n",
    "compare_scores(poly_reg, some_data_poly, some_labels)"
   ]
  },
  {
   "cell_type": "code",
   "execution_count": 105,
   "metadata": {},
   "outputs": [
    {
     "name": "stdout",
     "output_type": "stream",
     "text": [
      "Fitting 5 folds for each of 18 candidates, totalling 90 fits\n",
      "[CV] max_features=2, n_estimators=3 ..................................\n",
      "[CV] ................... max_features=2, n_estimators=3, total=   0.0s\n",
      "[CV] max_features=2, n_estimators=3 ..................................\n",
      "[CV] ................... max_features=2, n_estimators=3, total=   0.0s\n",
      "[CV] max_features=2, n_estimators=3 ..................................\n",
      "[CV] ................... max_features=2, n_estimators=3, total=   0.0s\n",
      "[CV] max_features=2, n_estimators=3 ..................................\n"
     ]
    },
    {
     "name": "stderr",
     "output_type": "stream",
     "text": [
      "[Parallel(n_jobs=1)]: Using backend SequentialBackend with 1 concurrent workers.\n",
      "[Parallel(n_jobs=1)]: Done   1 out of   1 | elapsed:    0.1s remaining:    0.0s\n"
     ]
    },
    {
     "name": "stdout",
     "output_type": "stream",
     "text": [
      "[CV] ................... max_features=2, n_estimators=3, total=   0.0s\n",
      "[CV] max_features=2, n_estimators=3 ..................................\n",
      "[CV] ................... max_features=2, n_estimators=3, total=   0.0s\n",
      "[CV] max_features=2, n_estimators=10 .................................\n",
      "[CV] .................. max_features=2, n_estimators=10, total=   0.1s\n",
      "[CV] max_features=2, n_estimators=10 .................................\n",
      "[CV] .................. max_features=2, n_estimators=10, total=   0.1s\n",
      "[CV] max_features=2, n_estimators=10 .................................\n",
      "[CV] .................. max_features=2, n_estimators=10, total=   0.1s\n",
      "[CV] max_features=2, n_estimators=10 .................................\n",
      "[CV] .................. max_features=2, n_estimators=10, total=   0.1s\n",
      "[CV] max_features=2, n_estimators=10 .................................\n",
      "[CV] .................. max_features=2, n_estimators=10, total=   0.1s\n",
      "[CV] max_features=2, n_estimators=3 ..................................\n",
      "[CV] ................... max_features=2, n_estimators=3, total=   0.0s\n",
      "[CV] max_features=2, n_estimators=3 ..................................\n",
      "[CV] ................... max_features=2, n_estimators=3, total=   0.0s\n",
      "[CV] max_features=2, n_estimators=3 ..................................\n",
      "[CV] ................... max_features=2, n_estimators=3, total=   0.0s\n",
      "[CV] max_features=2, n_estimators=3 ..................................\n",
      "[CV] ................... max_features=2, n_estimators=3, total=   0.0s\n",
      "[CV] max_features=2, n_estimators=3 ..................................\n",
      "[CV] ................... max_features=2, n_estimators=3, total=   0.0s\n",
      "[CV] max_features=4, n_estimators=3 ..................................\n",
      "[CV] ................... max_features=4, n_estimators=3, total=   0.0s\n",
      "[CV] max_features=4, n_estimators=3 ..................................\n",
      "[CV] ................... max_features=4, n_estimators=3, total=   0.0s\n",
      "[CV] max_features=4, n_estimators=3 ..................................\n",
      "[CV] ................... max_features=4, n_estimators=3, total=   0.0s\n",
      "[CV] max_features=4, n_estimators=3 ..................................\n",
      "[CV] ................... max_features=4, n_estimators=3, total=   0.0s\n",
      "[CV] max_features=4, n_estimators=3 ..................................\n",
      "[CV] ................... max_features=4, n_estimators=3, total=   0.0s\n",
      "[CV] max_features=4, n_estimators=10 .................................\n",
      "[CV] .................. max_features=4, n_estimators=10, total=   0.1s\n",
      "[CV] max_features=4, n_estimators=10 .................................\n",
      "[CV] .................. max_features=4, n_estimators=10, total=   0.2s\n",
      "[CV] max_features=4, n_estimators=10 .................................\n",
      "[CV] .................. max_features=4, n_estimators=10, total=   0.1s\n",
      "[CV] max_features=4, n_estimators=10 .................................\n",
      "[CV] .................. max_features=4, n_estimators=10, total=   0.1s\n",
      "[CV] max_features=4, n_estimators=10 .................................\n",
      "[CV] .................. max_features=4, n_estimators=10, total=   0.1s\n",
      "[CV] max_features=4, n_estimators=3 ..................................\n",
      "[CV] ................... max_features=4, n_estimators=3, total=   0.0s\n",
      "[CV] max_features=4, n_estimators=3 ..................................\n",
      "[CV] ................... max_features=4, n_estimators=3, total=   0.0s\n",
      "[CV] max_features=4, n_estimators=3 ..................................\n",
      "[CV] ................... max_features=4, n_estimators=3, total=   0.0s\n",
      "[CV] max_features=4, n_estimators=3 ..................................\n",
      "[CV] ................... max_features=4, n_estimators=3, total=   0.0s\n",
      "[CV] max_features=4, n_estimators=3 ..................................\n",
      "[CV] ................... max_features=4, n_estimators=3, total=   0.0s\n",
      "[CV] max_features=6, n_estimators=3 ..................................\n",
      "[CV] ................... max_features=6, n_estimators=3, total=   0.0s\n",
      "[CV] max_features=6, n_estimators=3 ..................................\n",
      "[CV] ................... max_features=6, n_estimators=3, total=   0.0s\n",
      "[CV] max_features=6, n_estimators=3 ..................................\n",
      "[CV] ................... max_features=6, n_estimators=3, total=   0.0s\n",
      "[CV] max_features=6, n_estimators=3 ..................................\n",
      "[CV] ................... max_features=6, n_estimators=3, total=   0.0s\n",
      "[CV] max_features=6, n_estimators=3 ..................................\n",
      "[CV] ................... max_features=6, n_estimators=3, total=   0.0s\n",
      "[CV] max_features=6, n_estimators=10 .................................\n",
      "[CV] .................. max_features=6, n_estimators=10, total=   0.1s\n",
      "[CV] max_features=6, n_estimators=10 .................................\n",
      "[CV] .................. max_features=6, n_estimators=10, total=   0.1s\n",
      "[CV] max_features=6, n_estimators=10 .................................\n",
      "[CV] .................. max_features=6, n_estimators=10, total=   0.1s\n",
      "[CV] max_features=6, n_estimators=10 .................................\n",
      "[CV] .................. max_features=6, n_estimators=10, total=   0.1s\n",
      "[CV] max_features=6, n_estimators=10 .................................\n",
      "[CV] .................. max_features=6, n_estimators=10, total=   0.1s\n",
      "[CV] max_features=6, n_estimators=3 ..................................\n",
      "[CV] ................... max_features=6, n_estimators=3, total=   0.0s\n",
      "[CV] max_features=6, n_estimators=3 ..................................\n",
      "[CV] ................... max_features=6, n_estimators=3, total=   0.0s\n",
      "[CV] max_features=6, n_estimators=3 ..................................\n",
      "[CV] ................... max_features=6, n_estimators=3, total=   0.0s\n",
      "[CV] max_features=6, n_estimators=3 ..................................\n",
      "[CV] ................... max_features=6, n_estimators=3, total=   0.0s\n",
      "[CV] max_features=6, n_estimators=3 ..................................\n",
      "[CV] ................... max_features=6, n_estimators=3, total=   0.0s\n",
      "[CV] max_features=8, n_estimators=3 ..................................\n",
      "[CV] ................... max_features=8, n_estimators=3, total=   0.0s\n",
      "[CV] max_features=8, n_estimators=3 ..................................\n",
      "[CV] ................... max_features=8, n_estimators=3, total=   0.0s\n",
      "[CV] max_features=8, n_estimators=3 ..................................\n",
      "[CV] ................... max_features=8, n_estimators=3, total=   0.0s\n",
      "[CV] max_features=8, n_estimators=3 ..................................\n",
      "[CV] ................... max_features=8, n_estimators=3, total=   0.0s\n",
      "[CV] max_features=8, n_estimators=3 ..................................\n",
      "[CV] ................... max_features=8, n_estimators=3, total=   0.0s\n",
      "[CV] max_features=8, n_estimators=10 .................................\n",
      "[CV] .................. max_features=8, n_estimators=10, total=   0.1s\n",
      "[CV] max_features=8, n_estimators=10 .................................\n",
      "[CV] .................. max_features=8, n_estimators=10, total=   0.1s\n",
      "[CV] max_features=8, n_estimators=10 .................................\n",
      "[CV] .................. max_features=8, n_estimators=10, total=   0.1s\n",
      "[CV] max_features=8, n_estimators=10 .................................\n",
      "[CV] .................. max_features=8, n_estimators=10, total=   0.1s\n",
      "[CV] max_features=8, n_estimators=10 .................................\n",
      "[CV] .................. max_features=8, n_estimators=10, total=   0.1s\n",
      "[CV] max_features=8, n_estimators=3 ..................................\n",
      "[CV] ................... max_features=8, n_estimators=3, total=   0.0s\n",
      "[CV] max_features=8, n_estimators=3 ..................................\n",
      "[CV] ................... max_features=8, n_estimators=3, total=   0.0s\n",
      "[CV] max_features=8, n_estimators=3 ..................................\n",
      "[CV] ................... max_features=8, n_estimators=3, total=   0.0s\n",
      "[CV] max_features=8, n_estimators=3 ..................................\n",
      "[CV] ................... max_features=8, n_estimators=3, total=   0.0s\n",
      "[CV] max_features=8, n_estimators=3 ..................................\n",
      "[CV] ................... max_features=8, n_estimators=3, total=   0.0s\n",
      "[CV] bootstrap=False, max_features=2, n_estimators=3 .................\n",
      "[CV] .. bootstrap=False, max_features=2, n_estimators=3, total=   0.1s\n",
      "[CV] bootstrap=False, max_features=2, n_estimators=3 .................\n",
      "[CV] .. bootstrap=False, max_features=2, n_estimators=3, total=   0.1s\n",
      "[CV] bootstrap=False, max_features=2, n_estimators=3 .................\n",
      "[CV] .. bootstrap=False, max_features=2, n_estimators=3, total=   0.1s\n",
      "[CV] bootstrap=False, max_features=2, n_estimators=3 .................\n",
      "[CV] .. bootstrap=False, max_features=2, n_estimators=3, total=   0.1s\n",
      "[CV] bootstrap=False, max_features=2, n_estimators=3 .................\n"
     ]
    },
    {
     "name": "stdout",
     "output_type": "stream",
     "text": [
      "[CV] .. bootstrap=False, max_features=2, n_estimators=3, total=   0.1s\n",
      "[CV] bootstrap=False, max_features=2, n_estimators=10 ................\n",
      "[CV] . bootstrap=False, max_features=2, n_estimators=10, total=   0.2s\n",
      "[CV] bootstrap=False, max_features=2, n_estimators=10 ................\n",
      "[CV] . bootstrap=False, max_features=2, n_estimators=10, total=   0.2s\n",
      "[CV] bootstrap=False, max_features=2, n_estimators=10 ................\n",
      "[CV] . bootstrap=False, max_features=2, n_estimators=10, total=   0.2s\n",
      "[CV] bootstrap=False, max_features=2, n_estimators=10 ................\n",
      "[CV] . bootstrap=False, max_features=2, n_estimators=10, total=   0.2s\n",
      "[CV] bootstrap=False, max_features=2, n_estimators=10 ................\n",
      "[CV] . bootstrap=False, max_features=2, n_estimators=10, total=   0.2s\n",
      "[CV] bootstrap=False, max_features=3, n_estimators=3 .................\n",
      "[CV] .. bootstrap=False, max_features=3, n_estimators=3, total=   0.1s\n",
      "[CV] bootstrap=False, max_features=3, n_estimators=3 .................\n",
      "[CV] .. bootstrap=False, max_features=3, n_estimators=3, total=   0.1s\n",
      "[CV] bootstrap=False, max_features=3, n_estimators=3 .................\n",
      "[CV] .. bootstrap=False, max_features=3, n_estimators=3, total=   0.1s\n",
      "[CV] bootstrap=False, max_features=3, n_estimators=3 .................\n",
      "[CV] .. bootstrap=False, max_features=3, n_estimators=3, total=   0.1s\n",
      "[CV] bootstrap=False, max_features=3, n_estimators=3 .................\n",
      "[CV] .. bootstrap=False, max_features=3, n_estimators=3, total=   0.1s\n",
      "[CV] bootstrap=False, max_features=3, n_estimators=10 ................\n",
      "[CV] . bootstrap=False, max_features=3, n_estimators=10, total=   0.2s\n",
      "[CV] bootstrap=False, max_features=3, n_estimators=10 ................\n",
      "[CV] . bootstrap=False, max_features=3, n_estimators=10, total=   0.2s\n",
      "[CV] bootstrap=False, max_features=3, n_estimators=10 ................\n",
      "[CV] . bootstrap=False, max_features=3, n_estimators=10, total=   0.2s\n",
      "[CV] bootstrap=False, max_features=3, n_estimators=10 ................\n",
      "[CV] . bootstrap=False, max_features=3, n_estimators=10, total=   0.2s\n",
      "[CV] bootstrap=False, max_features=3, n_estimators=10 ................\n",
      "[CV] . bootstrap=False, max_features=3, n_estimators=10, total=   0.2s\n",
      "[CV] bootstrap=False, max_features=4, n_estimators=3 .................\n",
      "[CV] .. bootstrap=False, max_features=4, n_estimators=3, total=   0.1s\n",
      "[CV] bootstrap=False, max_features=4, n_estimators=3 .................\n",
      "[CV] .. bootstrap=False, max_features=4, n_estimators=3, total=   0.1s\n",
      "[CV] bootstrap=False, max_features=4, n_estimators=3 .................\n",
      "[CV] .. bootstrap=False, max_features=4, n_estimators=3, total=   0.1s\n",
      "[CV] bootstrap=False, max_features=4, n_estimators=3 .................\n",
      "[CV] .. bootstrap=False, max_features=4, n_estimators=3, total=   0.1s\n",
      "[CV] bootstrap=False, max_features=4, n_estimators=3 .................\n",
      "[CV] .. bootstrap=False, max_features=4, n_estimators=3, total=   0.1s\n",
      "[CV] bootstrap=False, max_features=4, n_estimators=10 ................\n",
      "[CV] . bootstrap=False, max_features=4, n_estimators=10, total=   0.2s\n",
      "[CV] bootstrap=False, max_features=4, n_estimators=10 ................\n",
      "[CV] . bootstrap=False, max_features=4, n_estimators=10, total=   0.2s\n",
      "[CV] bootstrap=False, max_features=4, n_estimators=10 ................\n",
      "[CV] . bootstrap=False, max_features=4, n_estimators=10, total=   0.2s\n",
      "[CV] bootstrap=False, max_features=4, n_estimators=10 ................\n",
      "[CV] . bootstrap=False, max_features=4, n_estimators=10, total=   0.2s\n",
      "[CV] bootstrap=False, max_features=4, n_estimators=10 ................\n",
      "[CV] . bootstrap=False, max_features=4, n_estimators=10, total=   0.2s\n"
     ]
    },
    {
     "name": "stderr",
     "output_type": "stream",
     "text": [
      "[Parallel(n_jobs=1)]: Done  90 out of  90 | elapsed:    8.7s finished\n"
     ]
    }
   ],
   "source": [
    "from sklearn.ensemble import VotingRegressor\n",
    " \n",
    "voting_reg = VotingRegressor(estimators=[\n",
    "    ('linear', lin_reg), ('decision', decision_tree_reg), ('svm', svm_regression),\n",
    "    ('rnd_fst', random_forest_reg), ('poly_reg', poly_reg) \n",
    "])\n",
    "history = voting_reg.fit(x_train_prepared, y_train)"
   ]
  },
  {
   "cell_type": "code",
   "execution_count": 107,
   "metadata": {},
   "outputs": [
    {
     "name": "stdout",
     "output_type": "stream",
     "text": [
      "Predictions:  [1378923.71354323  255492.72120771  232576.21419027  202481.22010973\n",
      "  225020.04249659]\n",
      "actual: [1949000, 169000, 174900, 290000, 189900]\n"
     ]
    }
   ],
   "source": [
    "compare_scores(voting_reg, some_data, some_labels)"
   ]
  },
  {
   "cell_type": "code",
   "execution_count": 108,
   "metadata": {},
   "outputs": [
    {
     "data": {
      "text/plain": [
       "0.7011980548442864"
      ]
     },
     "execution_count": 108,
     "metadata": {},
     "output_type": "execute_result"
    }
   ],
   "source": [
    "history.score(x_test_prepared, y_test) "
   ]
  },
  {
   "cell_type": "code",
   "execution_count": null,
   "metadata": {},
   "outputs": [],
   "source": []
  }
 ],
 "metadata": {
  "kernelspec": {
   "display_name": "Python 3",
   "language": "python",
   "name": "python3"
  },
  "language_info": {
   "codemirror_mode": {
    "name": "ipython",
    "version": 3
   },
   "file_extension": ".py",
   "mimetype": "text/x-python",
   "name": "python",
   "nbconvert_exporter": "python",
   "pygments_lexer": "ipython3",
   "version": "3.6.9"
  }
 },
 "nbformat": 4,
 "nbformat_minor": 2
}
